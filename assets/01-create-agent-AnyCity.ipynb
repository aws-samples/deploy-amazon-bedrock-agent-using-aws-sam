{
 "cells": [
  {
   "cell_type": "markdown",
   "id": "089569ae-9348-4442-8e2a-941a8e5c00ac",
   "metadata": {},
   "source": [
    "# Create Agent with Function Definition\n",
    "\n",
    "In this notebook we will create an Agent for Amazon Bedrock using the new capabilities for function definition.\n",
    "\n",
    "We will use an HR agent as example. With this agent, you can check your available vacation days and request a new vacation leave. We will use an AWS Lambda function to define the logic that checks for the number of available vacation days and confirm new time off.\n",
    "\n",
    "For this example, we will manage employee data in an [SQLite](https://www.sqlite.org/) database and generate synthetic data for demonstrating the agent."
   ]
  },
  {
   "cell_type": "markdown",
   "id": "073fb566-1bb1-46ec-bdb3-7012a2e74714",
   "metadata": {},
   "source": [
    "## Prerequisites\n",
    "Before starting, let's update the botocore and boto3 packages to ensure we have the latest version"
   ]
  },
  {
   "cell_type": "code",
   "execution_count": null,
   "id": "c603ce06-61d8-4236-92e8-883e0d49cfea",
   "metadata": {
    "tags": []
   },
   "outputs": [],
   "source": [
    "!python3 -m pip install --upgrade -q botocore\n",
    "!python3 -m pip install --upgrade -q boto3\n",
    "!python3 -m pip install --upgrade -q awscli\n",
    "!pip install --upgrade -q opensearch-py"
   ]
  },
  {
   "cell_type": "markdown",
   "id": "b7f3bc3b-4db6-44bb-8d8e-3ea58e811111",
   "metadata": {},
   "source": [
    "Let's now check the boto3 version to ensure the correct version has been installed. Your version should be greater than or equal to 1.34.90."
   ]
  },
  {
   "cell_type": "code",
   "execution_count": null,
   "id": "5255655e-d83e-416a-a459-83590483d22b",
   "metadata": {
    "tags": []
   },
   "outputs": [],
   "source": [
    "import boto3\n",
    "import json\n",
    "import time\n",
    "import zipfile\n",
    "from io import BytesIO\n",
    "import uuid\n",
    "import pprint\n",
    "import logging\n",
    "import time\n",
    "import os\n",
    "from opensearchpy import OpenSearch, RequestsHttpConnection, AWSV4SignerAuth\n",
    "print(boto3.__version__)"
   ]
  },
  {
   "cell_type": "code",
   "execution_count": null,
   "id": "593be615-dab2-4084-a518-ee905113bfc7",
   "metadata": {
    "tags": []
   },
   "outputs": [],
   "source": [
    "# setting logger\n",
    "logging.basicConfig(format='[%(asctime)s] p%(process)s {%(filename)s:%(lineno)d} %(levelname)s - %(message)s', level=logging.INFO)\n",
    "logger = logging.getLogger(__name__)"
   ]
  },
  {
   "cell_type": "markdown",
   "id": "52dad4b8-c2e0-44cf-99ee-5c2a7e1a600f",
   "metadata": {},
   "source": [
    "Let's now create the boto3 clients for the required AWS services"
   ]
  },
  {
   "cell_type": "code",
   "execution_count": null,
   "id": "67883027-bbb5-42a6-955d-0aa019a8e4b3",
   "metadata": {
    "tags": []
   },
   "outputs": [],
   "source": [
    "# getting boto3 clients for required AWS services\n",
    "sts_client = boto3.client('sts')\n",
    "iam_client = boto3.client('iam')\n",
    "s3_client = boto3.client('s3')\n",
    "open_search_serverless_client = boto3.client('opensearchserverless')\n",
    "lambda_client = boto3.client('lambda')\n",
    "bedrock_agent_client = boto3.client('bedrock-agent')\n",
    "bedrock_agent_runtime_client = boto3.client('bedrock-agent-runtime')\n",
    "bedrock_client = boto3.client('bedrock')"
   ]
  },
  {
   "cell_type": "markdown",
   "id": "71505c3b-c2a5-47dc-a427-77f21ab50f0d",
   "metadata": {},
   "source": [
    "Next we can set some configuration variables for the agent and for the lambda function being created"
   ]
  },
  {
   "cell_type": "code",
   "execution_count": null,
   "id": "f6af5cd4-33b8-40c3-9d99-1790540eb60c",
   "metadata": {
    "tags": []
   },
   "outputs": [],
   "source": [
    "session = boto3.session.Session()\n",
    "region = session.region_name\n",
    "account_id = sts_client.get_caller_identity()[\"Account\"]\n",
    "region, account_id"
   ]
  },
  {
   "cell_type": "code",
   "execution_count": null,
   "id": "0dcb5332-c035-435a-91e5-838ec95d9a7d",
   "metadata": {
    "tags": []
   },
   "outputs": [],
   "source": [
    "# configuration variables\n",
    "suffix = f\"{region}-{account_id}\"\n",
    "agent_name = \"city-assistant-function-def\"\n",
    "agent_bedrock_allow_policy_name = f\"{agent_name}-ba-{suffix}\"\n",
    "agent_role_name = f'AmazonBedrockExecutionRoleForAgents_{agent_name}'\n",
    "agent_foundation_model = \"anthropic.claude-3-sonnet-20240229-v1:0\"\n",
    "agent_description = \"Agent for providing citizen assistance at AnyCity\"\n",
    "agent_instruction = \"You are an helpful agent, helping citizens at AnyCity to create park reservation, and check on garbage pickup dates.  You also have access to documentation about the city in your knowledge base.  Use the documentation to help answer questions.\"\n",
    "agent_action_group_name = \"AnyCityActionGroup\"\n",
    "agent_action_group_description = \"Actions for getting the park reservations, creating park reservations, and checking garbage pick up times\"\n",
    "agent_alias_name = f\"{agent_name}-alias\"\n",
    "lambda_function_role = f'{agent_name}-lambda-role-{suffix}'\n",
    "lambda_function_name = f'{agent_name}-{suffix}'"
   ]
  },
  {
   "cell_type": "markdown",
   "id": "40325ffc-b89e-4f44-813b-a7c7b3f1f977",
   "metadata": {},
   "source": [
    "## Creating Lambda Function\n",
    "\n",
    "We will now create a lambda function that interacts with the SQLite file `employee_database.db`. To do so we will:\n",
    "1. Create the `employee_database.db` file which contains the employee database with some generated data.\n",
    "2. Create the `lambda_function.py` file which contains the logic for our lambda function\n",
    "3. Create the IAM role for our Lambda function\n",
    "4. Create the lambda function infrastructure with the required permissions"
   ]
  },
  {
   "cell_type": "code",
   "execution_count": null,
   "id": "3196b16c-2d97-406b-bba7-de969fff8add",
   "metadata": {
    "tags": []
   },
   "outputs": [],
   "source": [
    "import sqlite3\n",
    "import random\n",
    "from datetime import date, timedelta\n",
    "\n",
    "# Connect to the SQLite database (creates a new one if it doesn't exist)\n",
    "conn = sqlite3.connect('anycity_database.db')\n",
    "c = conn.cursor()\n",
    "\n",
    "# Create the citizen table\n",
    "c.execute('''CREATE TABLE IF NOT EXISTS citizen\n",
    "             (citizen_id INTEGER PRIMARY KEY AUTOINCREMENT,\n",
    "              citizen_name TEXT,\n",
    "              citizen_address TEXT,\n",
    "              district INTEGER)''')\n",
    "\n",
    "# Create the garbage table\n",
    "c.execute('''CREATE TABLE IF NOT EXISTS garbage\n",
    "             (district_id INTEGER PRIMARY KEY,\n",
    "              pickup_day TEXT)''')\n",
    "\n",
    "# Create the park table\n",
    "c.execute('''CREATE TABLE IF NOT EXISTS park_reservation\n",
    "             (reservation_id INTEGER PRIMARY KEY AUTOINCREMENT,\n",
    "              citizen_id INTEGER,\n",
    "              park_id INTEGER,\n",
    "              reservation_start_date TEXT,\n",
    "              reservation_end_date TEXT,\n",
    "              FOREIGN KEY(citizen_id) REFERENCES citizen(citizen_id))''')\n",
    "\n",
    "# Generate some random data for 50 citizens\n",
    "citizen_first_name = ['John', 'Jane', 'Bob', 'Alice', 'Tom','Emily', 'Michael', 'Sarah', 'David', 'Jessica']\n",
    "citizen_last_name = ['Doe', 'Smith', 'Johnson', 'Williams', 'Brown', 'Davis', 'Wilson', 'Taylor', 'Anderson', 'Thompson']\n",
    "streets = ['Main St', 'Oak Ave', 'Maple Rd', 'Cedar Ln', 'Pine Blvd']\n",
    "\n",
    "for i in range(50):\n",
    "    name = f\"{random.choice(citizen_first_name)} {random.choice(citizen_last_name)}\"\n",
    "    address = f\"{random.randint(100, 999)} {random.choice(streets)}\"\n",
    "    district = random.randint(1, 5)\n",
    "    c.execute(\"INSERT INTO citizen (citizen_name, citizen_address, district) VALUES (?, ?, ?)\",\n",
    "              (name, address, district))\n",
    "\n",
    "# Generate garbage pickup schedule for each district\n",
    "days = ['Monday', 'Tuesday', 'Wednesday', 'Thursday', 'Friday']\n",
    "for district in range(1, 6):\n",
    "    pickup_day = random.choice(days)\n",
    "    c.execute(\"INSERT INTO garbage (district_id, pickup_day) VALUES (?, ?)\",\n",
    "              (district, pickup_day))\n",
    "\n",
    "# Generate some random park reservations\n",
    "num_parks = 3\n",
    "for _ in range(20):\n",
    "    citizen_id = random.randint(1, 50)\n",
    "    park_id = random.randint(1, num_parks)\n",
    "    start_date = date.today() + timedelta(days=random.randint(1, 30))\n",
    "    end_date = start_date + timedelta(days=random.randint(1, 3))\n",
    "    c.execute(\"INSERT INTO park_reservation (citizen_id, park_id, reservation_start_date, reservation_end_date) VALUES (?, ?, ?, ?)\",\n",
    "              (citizen_id, park_id, start_date.isoformat(), end_date.isoformat()))\n",
    "\n",
    "# Commit the changes and close the connection\n",
    "conn.commit()\n",
    "conn.close()"
   ]
  },
  {
   "cell_type": "markdown",
   "id": "4f63b906-9eff-4b99-a466-5aeb81e0d095",
   "metadata": {},
   "source": [
    "Let's now create our lambda function. It implements the functionality for `get_available_park_days` for a given park_id and `book_park` for an citizen giving a start and end date"
   ]
  },
  {
   "cell_type": "code",
   "execution_count": null,
   "id": "476a71a8-61c1-4dd4-89a1-6ac59f38cd3d",
   "metadata": {
    "tags": []
   },
   "outputs": [],
   "source": [
    "%%writefile lambda_function.py\n",
    "import os\n",
    "import json\n",
    "import shutil\n",
    "import sqlite3\n",
    "from datetime import datetime, timedelta\n",
    "\n",
    "def get_available_park_days(park_id, start_date, end_date):\n",
    "    conn = sqlite3.connect('/tmp/anycity_database.db')\n",
    "    c = conn.cursor()\n",
    "\n",
    "    try:\n",
    "        start_date = datetime.strptime(start_date, '%Y-%m-%d')\n",
    "        end_date = datetime.strptime(end_date, '%Y-%m-%d')\n",
    "        \n",
    "        c.execute(\"\"\"\n",
    "            SELECT reservation_start_date, reservation_end_date \n",
    "            FROM park_reservation \n",
    "            WHERE park_id = ? AND \n",
    "                  (reservation_start_date <= ? AND reservation_end_date >= ?)\n",
    "        \"\"\", (park_id, end_date.strftime('%Y-%m-%d'), start_date.strftime('%Y-%m-%d')))\n",
    "        \n",
    "        reservations = c.fetchall()\n",
    "        \n",
    "        all_days = set(start_date + timedelta(days=x) for x in range((end_date - start_date).days + 1))\n",
    "        \n",
    "        for reservation in reservations:\n",
    "            res_start = datetime.strptime(reservation[0], '%Y-%m-%d')\n",
    "            res_end = datetime.strptime(reservation[1], '%Y-%m-%d')\n",
    "            reserved_days = set(res_start + timedelta(days=x) for x in range((res_end - res_start).days + 1))\n",
    "            all_days -= reserved_days\n",
    "        \n",
    "        available_days = sorted(list(all_days))\n",
    "        \n",
    "        conn.close()\n",
    "        return [day.strftime('%Y-%m-%d') for day in available_days]\n",
    "    except Exception as e:\n",
    "        conn.close()\n",
    "        raise Exception(f\"Error occurred: {e}\")\n",
    "\n",
    "def book_park(citizen_id, park_id, start_date, end_date):\n",
    "    conn = sqlite3.connect('/tmp/anycity_database.db')\n",
    "    c = conn.cursor()\n",
    "\n",
    "    try:\n",
    "        c.execute(\"SELECT * FROM citizen WHERE citizen_id = ?\", (citizen_id,))\n",
    "        if not c.fetchone():\n",
    "            conn.close()\n",
    "            return f\"Citizen with ID {citizen_id} does not exist.\"\n",
    "\n",
    "        available_days = get_available_park_days(park_id, start_date, end_date)\n",
    "        required_days = set(datetime.strptime(start_date, '%Y-%m-%d') + timedelta(days=x) for x in range((datetime.strptime(end_date, '%Y-%m-%d') - datetime.strptime(start_date, '%Y-%m-%d')).days + 1))\n",
    "        \n",
    "        if not all(day.strftime('%Y-%m-%d') in available_days for day in required_days):\n",
    "            conn.close()\n",
    "            return \"The selected dates are not fully available for reservation.\"\n",
    "\n",
    "        c.execute(\"\"\"\n",
    "            INSERT INTO park_reservation (citizen_id, park_id, reservation_start_date, reservation_end_date) \n",
    "            VALUES (?, ?, ?, ?)\n",
    "        \"\"\", (citizen_id, park_id, start_date, end_date))\n",
    "\n",
    "        conn.commit()\n",
    "        conn.close()\n",
    "        return f\"Park reservation successful for citizen ID {citizen_id} from {start_date} to {end_date}.\"\n",
    "    except Exception as e:\n",
    "        conn.rollback()\n",
    "        conn.close()\n",
    "        raise Exception(f\"Error occurred: {e}\")\n",
    "\n",
    "def get_garbage_pickup_day(district_id):\n",
    "    conn = sqlite3.connect('/tmp/anycity_database.db')\n",
    "    c = conn.cursor()\n",
    "\n",
    "    try:\n",
    "        c.execute(\"SELECT pickup_day FROM garbage WHERE district_id = ?\", (district_id,))\n",
    "        result = c.fetchone()\n",
    "        \n",
    "        if result:\n",
    "            pickup_day = result[0]\n",
    "            conn.close()\n",
    "            return pickup_day\n",
    "        else:\n",
    "            conn.close()\n",
    "            return f\"No garbage pickup information found for district ID {district_id}.\"\n",
    "    except Exception as e:\n",
    "        conn.close()\n",
    "        raise Exception(f\"Error occurred: {e}\")\n",
    "\n",
    "def lambda_handler(event, context):\n",
    "    original_db_file = 'anycity_database.db'\n",
    "    target_db_file = '/tmp/anycity_database.db'\n",
    "    if not os.path.exists(target_db_file):\n",
    "        shutil.copy2(original_db_file, target_db_file)\n",
    "        \n",
    "    # Retrieve agent session attributes for context \n",
    "    session_attributes = event.get('sessionAttributes', {})\n",
    "    first_name = session_attributes.get('firstName', '')\n",
    "    citizen_id = session_attributes.get('citizenID', '2')\n",
    "    district_id = session_attributes.get('districtID', '4')\n",
    "    \n",
    "    \n",
    "    agent = event['agent']\n",
    "    actionGroup = event['actionGroup']\n",
    "    function = event['function']\n",
    "    parameters = event.get('parameters', [])\n",
    "    responseBody = {\n",
    "        \"TEXT\": {\n",
    "            \"body\": \"Error, no function was called\"\n",
    "        }\n",
    "    }\n",
    "\n",
    "    if function == 'get_available_park_days':\n",
    "        park_id = None\n",
    "        start_date = None\n",
    "        end_date = None\n",
    "        for param in parameters:\n",
    "            if param[\"name\"] == \"park_id\":\n",
    "                park_id = param[\"value\"]\n",
    "            if param[\"name\"] == \"start_date\":\n",
    "                start_date = param[\"value\"]\n",
    "            if param[\"name\"] == \"end_date\":\n",
    "                end_date = param[\"value\"]\n",
    "\n",
    "        if not all([park_id, start_date, end_date]):\n",
    "            raise Exception(\"Missing mandatory parameters: park_id, start_date, end_date\")\n",
    "        \n",
    "        available_days = get_available_park_days(park_id, start_date, end_date)\n",
    "        responseBody = {\n",
    "            'TEXT': {\n",
    "                \"body\": f\"Available days for park ID {park_id} from {start_date} to {end_date}: {available_days}\"\n",
    "            }\n",
    "        }\n",
    "    elif function == 'book_park':\n",
    "        #citizen_id = None\n",
    "        park_id = None\n",
    "        start_date = None\n",
    "        end_date = None\n",
    "        for param in parameters:\n",
    "            # if param[\"name\"] == \"citizen_id\":\n",
    "            #     citizen_id = param[\"value\"]\n",
    "            if param[\"name\"] == \"park_id\":\n",
    "                park_id = param[\"value\"]\n",
    "            if param[\"name\"] == \"start_date\":\n",
    "                start_date = param[\"value\"]\n",
    "            if param[\"name\"] == \"end_date\":\n",
    "                end_date = param[\"value\"]\n",
    "            \n",
    "        if not all([citizen_id, park_id, start_date, end_date]):\n",
    "            raise Exception(\"Missing mandatory parameters: citizen_id, park_id, start_date, end_date\")\n",
    "        \n",
    "        completion_message = book_park(citizen_id, park_id, start_date, end_date)\n",
    "        responseBody = {\n",
    "            'TEXT': {\n",
    "                \"body\": completion_message\n",
    "            }\n",
    "        }\n",
    "    elif function == 'get_garbage_pickup_day':\n",
    "        # district_id = None\n",
    "        # for param in parameters:\n",
    "        #     if param[\"name\"] == \"district_id\":\n",
    "        #         district_id = param[\"value\"]\n",
    "        \n",
    "        if not district_id:\n",
    "            raise Exception(\"Missing mandatory parameter: district_id\")\n",
    "        \n",
    "        pickup_day = get_garbage_pickup_day(district_id)\n",
    "        responseBody = {\n",
    "            'TEXT': {\n",
    "                \"body\": f\"Garbage pickup day for district ID {district_id}: {pickup_day}\"\n",
    "            }\n",
    "        }\n",
    "\n",
    "    action_response = {\n",
    "        'actionGroup': actionGroup,\n",
    "        'function': function,\n",
    "        'functionResponse': {\n",
    "            'responseBody': responseBody\n",
    "        }\n",
    "    }\n",
    "\n",
    "    function_response = {'response': action_response, 'messageVersion': event['messageVersion']}\n",
    "    print(\"Response: {}\".format(function_response))\n",
    "\n",
    "    return function_response"
   ]
  },
  {
   "cell_type": "markdown",
   "id": "bc3920a2-7909-4725-ab86-df3000d2c963",
   "metadata": {},
   "source": [
    "Next let's create the lambda IAM role and policy to invoke a Bedrock model"
   ]
  },
  {
   "cell_type": "code",
   "execution_count": null,
   "id": "e9a5ad9c-7fc0-4844-bc89-c32e409dd327",
   "metadata": {
    "tags": []
   },
   "outputs": [],
   "source": [
    "# Create IAM Role for the Lambda function\n",
    "try:\n",
    "    assume_role_policy_document = {\n",
    "        \"Version\": \"2012-10-17\",\n",
    "        \"Statement\": [\n",
    "            {\n",
    "                \"Effect\": \"Allow\",\n",
    "                \"Principal\": {\n",
    "                    \"Service\": \"lambda.amazonaws.com\"\n",
    "                },\n",
    "                \"Action\": \"sts:AssumeRole\"\n",
    "            }\n",
    "        ]\n",
    "    }\n",
    "\n",
    "    assume_role_policy_document_json = json.dumps(assume_role_policy_document)\n",
    "\n",
    "    lambda_iam_role = iam_client.create_role(\n",
    "        RoleName=lambda_function_role,\n",
    "        AssumeRolePolicyDocument=assume_role_policy_document_json\n",
    "    )\n",
    "\n",
    "    # Pause to make sure role is created\n",
    "    time.sleep(10)\n",
    "except:\n",
    "    lambda_iam_role = iam_client.get_role(RoleName=lambda_function_role)\n",
    "\n",
    "iam_client.attach_role_policy(\n",
    "    RoleName=lambda_function_role,\n",
    "    PolicyArn='arn:aws:iam::aws:policy/service-role/AWSLambdaBasicExecutionRole'\n",
    ")"
   ]
  },
  {
   "cell_type": "markdown",
   "id": "1377cc22-4035-43d0-8e55-648107d5b087",
   "metadata": {},
   "source": [
    "We can now package the lambda function to a Zip file and create the lambda function using boto3"
   ]
  },
  {
   "cell_type": "code",
   "execution_count": null,
   "id": "4db0472f-dfda-4085-8a44-89971f34c5a9",
   "metadata": {
    "tags": []
   },
   "outputs": [],
   "source": [
    "# Package up the lambda function code\n",
    "s = BytesIO()\n",
    "z = zipfile.ZipFile(s, 'w')\n",
    "z.write(\"lambda_function.py\")\n",
    "z.write(\"anycity_database.db\")\n",
    "z.close()\n",
    "zip_content = s.getvalue()\n",
    "\n",
    "# Create Lambda Function\n",
    "lambda_function = lambda_client.create_function(\n",
    "    FunctionName=lambda_function_name,\n",
    "    Runtime='python3.12',\n",
    "    Timeout=180,\n",
    "    Role=lambda_iam_role['Role']['Arn'],\n",
    "    Code={'ZipFile': zip_content},\n",
    "    Handler='lambda_function.lambda_handler'\n",
    ")"
   ]
  },
  {
   "cell_type": "markdown",
   "id": "d8356a60-ac56-48f5-b19e-ce410968bad0",
   "metadata": {},
   "source": [
    "# Create Knowledge Base"
   ]
  },
  {
   "cell_type": "code",
   "execution_count": null,
   "id": "86faac7b-da6e-45b9-b6cb-8a4e6b3cc104",
   "metadata": {
    "tags": []
   },
   "outputs": [],
   "source": [
    "bucket_name = 'reinvent2024-anycity-kb'\n",
    "s3_client.create_bucket(Bucket=bucket_name)"
   ]
  },
  {
   "cell_type": "code",
   "execution_count": null,
   "id": "72dad4a4-c6f3-4154-9119-71ffeb55ed18",
   "metadata": {
    "tags": []
   },
   "outputs": [],
   "source": [
    "kb_files_path = 'data'\n",
    "kb_key = 'kb_documents'\n",
    "# Upload Knowledge Base files to this s3 bucket\n",
    "for f in os.listdir(kb_files_path):\n",
    "    if f.endswith(\".pdf\"):\n",
    "        s3_client.upload_file(kb_files_path+'/'+f, bucket_name, kb_key+'/'+f)"
   ]
  },
  {
   "cell_type": "code",
   "execution_count": null,
   "id": "b5a776fc-f9cc-4615-87f3-fc8a5584073e",
   "metadata": {
    "tags": []
   },
   "outputs": [],
   "source": [
    "# Select Amazon titan as the embedding model\n",
    "embedding_model_arn = f'arn:aws:bedrock:{region}::foundation-model/amazon.titan-embed-text-v2:0'"
   ]
  },
  {
   "cell_type": "code",
   "execution_count": null,
   "id": "b2db3018-cf4d-4fa2-9926-845b3b2a1607",
   "metadata": {
    "tags": []
   },
   "outputs": [],
   "source": [
    "kb_bedrock_allow_policy_name = f\"bd-kb-bedrock-allow-{suffix}\"\n",
    "\n",
    "# Create IAM policies for KB to invoke embedding model\n",
    "bedrock_kb_allow_fm_model_policy_statement = {\n",
    "    \"Version\": \"2012-10-17\",\n",
    "    \"Statement\": [\n",
    "        {\n",
    "            \"Sid\": \"AmazonBedrockAgentBedrockFoundationModelPolicy\",\n",
    "            \"Effect\": \"Allow\",\n",
    "            \"Action\": \"bedrock:InvokeModel\",\n",
    "            \"Resource\": [\n",
    "                embedding_model_arn\n",
    "            ]\n",
    "        }\n",
    "    ]\n",
    "}\n",
    "\n",
    "kb_bedrock_policy_json = json.dumps(bedrock_kb_allow_fm_model_policy_statement)\n",
    "\n",
    "kb_bedrock_policy = iam_client.create_policy(\n",
    "    PolicyName=kb_bedrock_allow_policy_name,\n",
    "    PolicyDocument=kb_bedrock_policy_json\n",
    ")\n"
   ]
  },
  {
   "cell_type": "code",
   "execution_count": null,
   "id": "64473f35-81e1-48e0-8fc6-e4b6a0632bc7",
   "metadata": {
    "tags": []
   },
   "outputs": [],
   "source": [
    "kb_aoss_allow_policy_name = f\"bd-kb-aoss-allow-{suffix}\"\n",
    "\n",
    "# Create IAM policies for KB to access OpenSearch Serverless\n",
    "bedrock_kb_allow_aoss_policy_statement = {\n",
    "    \"Version\": \"2012-10-17\",\n",
    "    \"Statement\": [\n",
    "        {\n",
    "            \"Effect\": \"Allow\",\n",
    "            \"Action\": \"aoss:APIAccessAll\",\n",
    "            \"Resource\": [\n",
    "                f\"arn:aws:aoss:{region}:{account_id}:collection/*\"\n",
    "            ]\n",
    "        }\n",
    "    ]\n",
    "}\n",
    "\n",
    "\n",
    "kb_aoss_policy_json = json.dumps(bedrock_kb_allow_aoss_policy_statement)\n",
    "\n",
    "kb_aoss_policy = iam_client.create_policy(\n",
    "    PolicyName=kb_aoss_allow_policy_name,\n",
    "    PolicyDocument=kb_aoss_policy_json\n",
    ")"
   ]
  },
  {
   "cell_type": "code",
   "execution_count": null,
   "id": "e0dfecb7-bb27-44d2-89dc-f1dea03b299a",
   "metadata": {
    "tags": []
   },
   "outputs": [],
   "source": [
    "kb_s3_allow_policy_name = f\"bd-kb-s3-allow-{suffix}\"\n",
    "\n",
    "kb_s3_allow_policy_statement = {\n",
    "    \"Version\": \"2012-10-17\",\n",
    "    \"Statement\": [\n",
    "        {\n",
    "            \"Sid\": \"AllowKBAccessDocuments\",\n",
    "            \"Effect\": \"Allow\",\n",
    "            \"Action\": [\n",
    "                \"s3:GetObject\",\n",
    "                \"s3:ListBucket\"\n",
    "            ],\n",
    "            \"Resource\": [\n",
    "                f\"arn:aws:s3:::{bucket_name}/*\",\n",
    "                f\"arn:aws:s3:::{bucket_name}\"\n",
    "            ],\n",
    "            \"Condition\": {\n",
    "                \"StringEquals\": {\n",
    "                    \"aws:ResourceAccount\": f\"{account_id}\"\n",
    "                }\n",
    "            }\n",
    "        }\n",
    "    ]\n",
    "}\n",
    "\n",
    "\n",
    "kb_s3_json = json.dumps(kb_s3_allow_policy_statement)\n",
    "kb_s3_policy = iam_client.create_policy(\n",
    "    PolicyName=kb_s3_allow_policy_name,\n",
    "    PolicyDocument=kb_s3_json\n",
    ")"
   ]
  },
  {
   "cell_type": "code",
   "execution_count": null,
   "id": "19af13bd-d0eb-4bc8-9c6f-27b6ec31054b",
   "metadata": {
    "tags": []
   },
   "outputs": [],
   "source": [
    "kb_role_name = f'AmazonBedrockExecutionRoleForKnowledgeBase_bedrock_docs'\n",
    "\n",
    "# Create IAM Role for the agent and attach IAM policies\n",
    "assume_role_policy_document = {\n",
    "    \"Version\": \"2012-10-17\",\n",
    "    \"Statement\": [{\n",
    "          \"Effect\": \"Allow\",\n",
    "          \"Principal\": {\n",
    "            \"Service\": \"bedrock.amazonaws.com\"\n",
    "          },\n",
    "          \"Action\": \"sts:AssumeRole\"\n",
    "    }]\n",
    "}\n",
    "\n",
    "assume_role_policy_document_json = json.dumps(assume_role_policy_document)\n",
    "kb_role = iam_client.create_role(\n",
    "    RoleName=kb_role_name,\n",
    "    AssumeRolePolicyDocument=assume_role_policy_document_json\n",
    ")\n",
    "\n",
    "# Pause to make sure role is created\n",
    "time.sleep(10)\n",
    "    \n",
    "iam_client.attach_role_policy(\n",
    "    RoleName=kb_role_name,\n",
    "    PolicyArn=kb_bedrock_policy['Policy']['Arn']\n",
    ")\n",
    "\n",
    "iam_client.attach_role_policy(\n",
    "    RoleName=kb_role_name,\n",
    "    PolicyArn=kb_aoss_policy['Policy']['Arn']\n",
    ")\n",
    "\n",
    "iam_client.attach_role_policy(\n",
    "    RoleName=kb_role_name,\n",
    "    PolicyArn=kb_s3_policy['Policy']['Arn']\n",
    ")"
   ]
  },
  {
   "cell_type": "code",
   "execution_count": null,
   "id": "c1ebc996-e8d9-4987-91ca-5c96a98f4847",
   "metadata": {
    "tags": []
   },
   "outputs": [],
   "source": [
    "kb_role_arn = kb_role[\"Role\"][\"Arn\"]\n",
    "kb_role_arn"
   ]
  },
  {
   "cell_type": "markdown",
   "id": "f518fbfd-97df-4143-b648-225b9b4cc191",
   "metadata": {},
   "source": [
    "## Create Vector Database\n",
    "\n",
    "First let's create a vector store. In this section we will use Amazon OpenSerach Serverless.\n",
    "\n",
    "Amazon OpenSearch Serverless is a serverless option in Amazon OpenSearch Service. As a developer, you can use OpenSearch Serverless to run petabyte-scale workloads without configuring, managing, and scaling OpenSearch clusters. You get the same interactive millisecond response times as OpenSearch Service with the simplicity of a serverless environment. Pay only for what you use by automatically scaling resources to provide the right amount of capacity for your application—without impacting data ingestion."
   ]
  },
  {
   "cell_type": "code",
   "execution_count": null,
   "id": "d0cd326f-53eb-4051-b83b-a43c4f5882b6",
   "metadata": {
    "tags": []
   },
   "outputs": [],
   "source": [
    "kb_collection_name = f'bd-kbc-{suffix}'\n",
    "\n",
    "# Create OpenSearch Collection\n",
    "security_policy_json = {\n",
    "    \"Rules\": [\n",
    "        {\n",
    "            \"ResourceType\": \"collection\",\n",
    "            \"Resource\":[\n",
    "                f\"collection/{kb_collection_name}\"\n",
    "            ]\n",
    "        }\n",
    "    ],\n",
    "    \"AWSOwnedKey\": True\n",
    "}\n",
    "security_policy = open_search_serverless_client.create_security_policy(\n",
    "    description='security policy of aoss collection',\n",
    "    name=kb_collection_name,\n",
    "    policy=json.dumps(security_policy_json),\n",
    "    type='encryption'\n",
    ")\n"
   ]
  },
  {
   "cell_type": "code",
   "execution_count": null,
   "id": "841741b7-e678-4f21-906d-e83c530444c6",
   "metadata": {},
   "outputs": [],
   "source": [
    "network_policy_json = [\n",
    "  {\n",
    "    \"Rules\": [\n",
    "      {\n",
    "        \"Resource\": [\n",
    "          f\"collection/{kb_collection_name}\"\n",
    "        ],\n",
    "        \"ResourceType\": \"dashboard\"\n",
    "      },\n",
    "      {\n",
    "        \"Resource\": [\n",
    "          f\"collection/{kb_collection_name}\"\n",
    "        ],\n",
    "        \"ResourceType\": \"collection\"\n",
    "      }\n",
    "    ],\n",
    "    \"AllowFromPublic\": True\n",
    "  }\n",
    "]\n",
    "\n",
    "network_policy = open_search_serverless_client.create_security_policy(\n",
    "    description='network policy of aoss collection',\n",
    "    name=kb_collection_name,\n",
    "    policy=json.dumps(network_policy_json),\n",
    "    type='network'\n",
    ")\n"
   ]
  },
  {
   "cell_type": "code",
   "execution_count": null,
   "id": "d15f0696-9d57-456e-a513-198429a3d12b",
   "metadata": {},
   "outputs": [],
   "source": [
    "response = sts_client.get_caller_identity()\n",
    "current_role = response['Arn']\n",
    "current_role"
   ]
  },
  {
   "cell_type": "code",
   "execution_count": null,
   "id": "9d375750-ab50-4fe5-8ca6-99d87351141c",
   "metadata": {},
   "outputs": [],
   "source": [
    "data_policy_json = [\n",
    "  {\n",
    "    \"Rules\": [\n",
    "      {\n",
    "        \"Resource\": [\n",
    "          f\"collection/{kb_collection_name}\"\n",
    "        ],\n",
    "        \"Permission\": [\n",
    "          \"aoss:DescribeCollectionItems\",\n",
    "          \"aoss:CreateCollectionItems\",\n",
    "          \"aoss:UpdateCollectionItems\",\n",
    "          \"aoss:DeleteCollectionItems\"\n",
    "        ],\n",
    "        \"ResourceType\": \"collection\"\n",
    "      },\n",
    "      {\n",
    "        \"Resource\": [\n",
    "          f\"index/{kb_collection_name}/*\"\n",
    "        ],\n",
    "        \"Permission\": [\n",
    "            \"aoss:CreateIndex\",\n",
    "            \"aoss:DeleteIndex\",\n",
    "            \"aoss:UpdateIndex\",\n",
    "            \"aoss:DescribeIndex\",\n",
    "            \"aoss:ReadDocument\",\n",
    "            \"aoss:WriteDocument\"\n",
    "        ],\n",
    "        \"ResourceType\": \"index\"\n",
    "      }\n",
    "    ],\n",
    "    \"Principal\": [\n",
    "        kb_role_arn,\n",
    "        f\"arn:aws:sts::{account_id}:assumed-role/Admin/*\",\n",
    "        current_role\n",
    "    ],\n",
    "    \"Description\": \"\"\n",
    "  }\n",
    "]\n",
    "\n",
    "data_policy = open_search_serverless_client.create_access_policy(\n",
    "    description='data access policy for aoss collection',\n",
    "    name=kb_collection_name,\n",
    "    policy=json.dumps(data_policy_json),\n",
    "    type='data'\n",
    ")\n"
   ]
  },
  {
   "cell_type": "code",
   "execution_count": null,
   "id": "7630392f-ad3b-4f77-92e4-e84864d9cc54",
   "metadata": {},
   "outputs": [],
   "source": [
    "opensearch_collection_response = open_search_serverless_client.create_collection(\n",
    "    description='OpenSearch collection for Amazon Bedrock Knowledge Base',\n",
    "    name=kb_collection_name,\n",
    "    standbyReplicas='DISABLED',\n",
    "    type='VECTORSEARCH'\n",
    ")\n",
    "opensearch_collection_response"
   ]
  },
  {
   "cell_type": "code",
   "execution_count": null,
   "id": "e132905f-e6ae-4823-969e-cbcadbf74868",
   "metadata": {},
   "outputs": [],
   "source": [
    "collection_arn = opensearch_collection_response[\"createCollectionDetail\"][\"arn\"]\n",
    "collection_arn"
   ]
  },
  {
   "cell_type": "code",
   "execution_count": null,
   "id": "72618f2e-a0e8-4b58-9384-b27681032ce8",
   "metadata": {},
   "outputs": [],
   "source": [
    "# wait for collection creation\n",
    "response = open_search_serverless_client.batch_get_collection(names=[kb_collection_name])\n",
    "# Periodically check collection status\n",
    "while (response['collectionDetails'][0]['status']) == 'CREATING':\n",
    "    print('Creating collection...')\n",
    "    time.sleep(30)\n",
    "    response = open_search_serverless_client.batch_get_collection(names=[kb_collection_name])\n",
    "print('\\nCollection successfully created:')\n",
    "print(response[\"collectionDetails\"])\n",
    "# Extract the collection endpoint from the response\n",
    "host = (response['collectionDetails'][0]['collectionEndpoint'])\n",
    "final_host = host.replace(\"https://\", \"\")\n",
    "final_host"
   ]
  },
  {
   "cell_type": "markdown",
   "id": "ed8a7fe0-00a5-4eeb-b2f3-624f67887685",
   "metadata": {},
   "source": [
    "## Create OpenSearch Index\n",
    "\n",
    "Let's now create a vector index to index our data"
   ]
  },
  {
   "cell_type": "code",
   "execution_count": null,
   "id": "8b68e238-95c5-4fae-9aee-9c4245fc00b4",
   "metadata": {
    "tags": []
   },
   "outputs": [],
   "source": [
    "kb_vector_index_name = \"bedrock-knowledge-base-index\"\n",
    "\n",
    "# Set up AWS authentication\n",
    "service = 'aoss'\n",
    "credentials = boto3.Session().get_credentials()\n",
    "awsauth = AWSV4SignerAuth(credentials, region, service)\n",
    "\n",
    "# Build the OpenSearch client\n",
    "oss_client = OpenSearch(\n",
    "    hosts=[{'host': final_host, 'port': 443}],\n",
    "    http_auth=awsauth,\n",
    "    use_ssl=True,\n",
    "    verify_certs=True,\n",
    "    connection_class=RequestsHttpConnection,\n",
    "    timeout=300\n",
    ")\n",
    "\n",
    "# It can take up to a minute for data access rules to be enforced\n",
    "time.sleep(45)\n",
    "\n",
    "# Define index settings and mappings\n",
    "index_settings = {\n",
    "    \"settings\": {\n",
    "        \"index.knn\": \"true\"\n",
    "    },\n",
    "    \"mappings\": {\n",
    "        \"properties\": {\n",
    "            \"vector\": {\n",
    "                \"type\": \"knn_vector\",\n",
    "                \"dimension\": 1024,\n",
    "                 \"method\": {\n",
    "                     \"name\": \"hnsw\",\n",
    "                     \"engine\": \"faiss\",\n",
    "                     \"space_type\": \"innerproduct\",\n",
    "                     \"parameters\": {\n",
    "                         \"ef_construction\": 512,\n",
    "                         \"m\": 16\n",
    "                     },\n",
    "                 },\n",
    "             },\n",
    "            \"text\": {\n",
    "                \"type\": \"text\"\n",
    "            },\n",
    "            \"text-metadata\": {\n",
    "                \"type\": \"text\"\n",
    "            }\n",
    "        }\n",
    "    }\n",
    "}\n",
    "\n",
    "# Create index\n",
    "response = oss_client.indices.create(index=kb_vector_index_name, body=json.dumps(index_settings))\n",
    "print(response)"
   ]
  },
  {
   "cell_type": "markdown",
   "id": "0f90eb09-9217-42d8-84f0-aa67164c10ae",
   "metadata": {},
   "source": [
    "## Create Knowledge Base"
   ]
  },
  {
   "cell_type": "code",
   "execution_count": null,
   "id": "1c361811-9d04-4d79-a4a3-6ed2fd2ced7a",
   "metadata": {},
   "outputs": [],
   "source": [
    "# kb_metadataField = 'bedrock-knowledge-base-metadata'\n",
    "# kb_textField = 'bedrock-knowledge-base-text'\n",
    "# kb_vectorField = 'bedrock-knowledge-base-vector'\n",
    "\n",
    "storageConfiguration={\n",
    "        'opensearchServerlessConfiguration': {\n",
    "            'collectionArn': collection_arn,\n",
    "            'fieldMapping': {\n",
    "                'metadataField': 'text-metadata',\n",
    "                'textField': 'text',\n",
    "                'vectorField': 'vector'\n",
    "            },\n",
    "            'vectorIndexName': kb_vector_index_name\n",
    "        },\n",
    "        'type': 'OPENSEARCH_SERVERLESS'\n",
    "    }\n",
    "\n",
    "\n"
   ]
  },
  {
   "cell_type": "code",
   "execution_count": null,
   "id": "a5945694-03e8-4274-b346-7333c285cd1f",
   "metadata": {},
   "outputs": [],
   "source": [
    "kb_name = f'bedrockdocs-kb-{region}-{account_id}'\n",
    "\n",
    "# Creating the knowledge base\n",
    "try:\n",
    "    # ensure the index is created and available\n",
    "    time.sleep(45)\n",
    "    kb_obj = bedrock_agent_client.create_knowledge_base(\n",
    "        name=kb_name, \n",
    "        description='KB that contains the bedrock documentation',\n",
    "        roleArn=kb_role_arn,\n",
    "        knowledgeBaseConfiguration={\n",
    "            'type': 'VECTOR',  # Corrected type\n",
    "            'vectorKnowledgeBaseConfiguration': {\n",
    "                'embeddingModelArn': embedding_model_arn\n",
    "            }\n",
    "        },\n",
    "        storageConfiguration=storageConfiguration\n",
    "    )\n",
    "\n",
    "    # Pretty print the response\n",
    "    pprint.pprint(kb_obj)\n",
    "\n",
    "except Exception as e:\n",
    "    print(f\"Error occurred: {e}\")"
   ]
  },
  {
   "cell_type": "code",
   "execution_count": null,
   "id": "6e81630e-9b58-4311-81db-fc1e393ba2d9",
   "metadata": {},
   "outputs": [],
   "source": [
    "data_source_name = f'bedrock-docs-kb-docs-{suffix}'\n",
    "\n",
    "# Define the S3 configuration for your data source\n",
    "s3_configuration = {\n",
    "    'bucketArn': f\"arn:aws:s3:::{bucket_name}\",\n",
    "    'inclusionPrefixes': [kb_key]\n",
    "}\n",
    "\n",
    "# Define the data source configuration\n",
    "data_source_configuration = {\n",
    "    's3Configuration': s3_configuration,\n",
    "    'type': 'S3'\n",
    "}\n",
    "\n",
    "knowledge_base_id = kb_obj[\"knowledgeBase\"][\"knowledgeBaseId\"]\n",
    "knowledge_base_arn = kb_obj[\"knowledgeBase\"][\"knowledgeBaseArn\"]\n",
    "\n",
    "chunking_strategy_configuration = {\n",
    "    \"chunkingStrategy\": \"FIXED_SIZE\",\n",
    "    \"fixedSizeChunkingConfiguration\": {\n",
    "        \"maxTokens\": 512,\n",
    "        \"overlapPercentage\": 20\n",
    "    }\n",
    "}\n",
    "\n",
    "# Create the data source\n",
    "try:\n",
    "    # ensure that the KB is created and available\n",
    "    time.sleep(45)\n",
    "    data_source_response = bedrock_agent_client.create_data_source(\n",
    "        knowledgeBaseId=knowledge_base_id,\n",
    "        name=data_source_name,\n",
    "        description='DataSource for the bedrock documentation',\n",
    "        dataSourceConfiguration=data_source_configuration,\n",
    "        vectorIngestionConfiguration = {\n",
    "            \"chunkingConfiguration\": chunking_strategy_configuration\n",
    "        }\n",
    "    )\n",
    "\n",
    "    # Pretty print the response\n",
    "    pprint.pprint(data_source_response)\n",
    "\n",
    "except Exception as e:\n",
    "    print(f\"Error occurred: {e}\")"
   ]
  },
  {
   "cell_type": "markdown",
   "id": "003689df-b4c4-425a-bf42-6201bcd5a006",
   "metadata": {},
   "source": [
    "## Start Ingestion Job\n",
    "\n",
    "Once the Knowledge Base and Data Source are created, we can start the ingestion job. During the ingestion job, Knowledge Base will fetch the documents in the data source, pre-process it to extract text, chunk it based on the chunking size provided, create embeddings of each chunk and then write it to the vector database, in this case Amazon OpenSource Serverless."
   ]
  },
  {
   "cell_type": "code",
   "execution_count": null,
   "id": "f61e1b67-c1e9-4221-8e14-b97d4c2195ea",
   "metadata": {},
   "outputs": [],
   "source": [
    "# Start an ingestion job\n",
    "data_source_id = data_source_response[\"dataSource\"][\"dataSourceId\"]\n",
    "start_job_response = bedrock_agent_client.start_ingestion_job(\n",
    "    knowledgeBaseId=knowledge_base_id,\n",
    "    dataSourceId=data_source_id\n",
    ")"
   ]
  },
  {
   "cell_type": "markdown",
   "id": "87aa9665-7cab-4794-b496-fd84a8a7972b",
   "metadata": {},
   "source": [
    "## Create Agent\n",
    "We will now create the agent. To do so, we first need to create the agent policies that allow bedrock model invocation for a specific foundation model and the agent IAM role with the policy associated to it. "
   ]
  },
  {
   "cell_type": "code",
   "execution_count": null,
   "id": "10ffd724-3d1b-4916-8513-466c5dd03fcc",
   "metadata": {
    "tags": []
   },
   "outputs": [],
   "source": [
    "# Create IAM policies for agent\n",
    "bedrock_agent_bedrock_allow_policy_statement = {\n",
    "    \"Version\": \"2012-10-17\",\n",
    "    \"Statement\": [\n",
    "        {\n",
    "            \"Sid\": \"AmazonBedrockAgentBedrockFoundationModelPolicy\",\n",
    "            \"Effect\": \"Allow\",\n",
    "            \"Action\": \"bedrock:InvokeModel\",\n",
    "            \"Resource\": [\n",
    "                f\"arn:aws:bedrock:{region}::foundation-model/{agent_foundation_model}\"\n",
    "            ]\n",
    "        }\n",
    "    ]\n",
    "}\n",
    "\n",
    "bedrock_policy_json = json.dumps(bedrock_agent_bedrock_allow_policy_statement)\n",
    "\n",
    "agent_bedrock_policy = iam_client.create_policy(\n",
    "    PolicyName=agent_bedrock_allow_policy_name,\n",
    "    PolicyDocument=bedrock_policy_json\n",
    ")\n",
    "\n"
   ]
  },
  {
   "cell_type": "code",
   "execution_count": null,
   "id": "006511e2-d28f-4023-aabb-e50eda4e543d",
   "metadata": {
    "tags": []
   },
   "outputs": [],
   "source": [
    "bedrock_agent_kb_allow_policy_name = f\"bda-kb-allow-{suffix}\"\n",
    "\n",
    "bedrock_agent_kb_retrival_policy_statement = {\n",
    "    \"Version\": \"2012-10-17\",\n",
    "    \"Statement\": [\n",
    "        {\n",
    "            \"Effect\": \"Allow\",\n",
    "            \"Action\": [\n",
    "                \"bedrock:Retrieve\"\n",
    "            ],\n",
    "            \"Resource\": [\n",
    "                knowledge_base_arn\n",
    "            ]\n",
    "        }\n",
    "    ]\n",
    "}\n",
    "bedrock_agent_kb_json = json.dumps(bedrock_agent_kb_retrival_policy_statement)\n",
    "agent_kb_schema_policy = iam_client.create_policy(\n",
    "    PolicyName=bedrock_agent_kb_allow_policy_name,\n",
    "    Description=f\"Policy to allow agent to retrieve documents from knowledge base.\",\n",
    "    PolicyDocument=bedrock_agent_kb_json\n",
    ")"
   ]
  },
  {
   "cell_type": "code",
   "execution_count": null,
   "id": "37e25f35-f4c5-45c7-a288-dfb16d1e0cbc",
   "metadata": {
    "tags": []
   },
   "outputs": [],
   "source": [
    "agent_role_name"
   ]
  },
  {
   "cell_type": "code",
   "execution_count": null,
   "id": "83f3cf61-e65b-4c61-8a66-76bd5946eb32",
   "metadata": {
    "tags": []
   },
   "outputs": [],
   "source": [
    "# Create IAM Role for the agent and attach IAM policies\n",
    "assume_role_policy_document = {\n",
    "    \"Version\": \"2012-10-17\",\n",
    "    \"Statement\": [{\n",
    "          \"Effect\": \"Allow\",\n",
    "          \"Principal\": {\n",
    "            \"Service\": \"bedrock.amazonaws.com\"\n",
    "          },\n",
    "          \"Action\": \"sts:AssumeRole\"\n",
    "    }]\n",
    "}\n",
    "\n",
    "assume_role_policy_document_json = json.dumps(assume_role_policy_document)\n",
    "agent_role = iam_client.create_role(\n",
    "    RoleName=agent_role_name,\n",
    "    AssumeRolePolicyDocument=assume_role_policy_document_json\n",
    ")\n",
    "\n",
    "# Pause to make sure role is created\n",
    "time.sleep(10)\n",
    "    \n",
    "iam_client.attach_role_policy(\n",
    "    RoleName=agent_role_name,\n",
    "    PolicyArn=agent_bedrock_policy['Policy']['Arn']\n",
    ")\n",
    "\n",
    "iam_client.attach_role_policy(\n",
    "    RoleName=agent_role_name,\n",
    "    PolicyArn=agent_kb_schema_policy['Policy']['Arn']\n",
    ")"
   ]
  },
  {
   "cell_type": "markdown",
   "id": "6083fe88-05af-4455-9744-e9593fc784f3",
   "metadata": {},
   "source": [
    "### Creating the agent\n",
    "Once the needed IAM role is created, we can use the Bedrock Agent client to create a new agent. To do so we use the `create_agent` function. It requires an agent name, underlying foundation model and instructions. You can also provide an agent description. Note that the agent created is not yet prepared. Later, we will prepare and use the agent."
   ]
  },
  {
   "cell_type": "code",
   "execution_count": null,
   "id": "6251ebaa-693d-4fee-b28c-2b0692d94ae5",
   "metadata": {
    "tags": []
   },
   "outputs": [],
   "source": [
    "response = bedrock_agent_client.create_agent(\n",
    "    agentName=agent_name,\n",
    "    agentResourceRoleArn=agent_role['Role']['Arn'],\n",
    "    description=agent_description,\n",
    "    idleSessionTTLInSeconds=1800,\n",
    "    foundationModel=agent_foundation_model,\n",
    "    instruction=agent_instruction,\n",
    ")\n",
    "response"
   ]
  },
  {
   "cell_type": "markdown",
   "id": "55a44f69-64ae-45ce-8961-41cf4363f271",
   "metadata": {},
   "source": [
    "Let's now store the agent id in a local variable to use it on subsequent steps."
   ]
  },
  {
   "cell_type": "code",
   "execution_count": null,
   "id": "0774ea09-6ccf-476d-b2bb-c8265b614f60",
   "metadata": {
    "tags": []
   },
   "outputs": [],
   "source": [
    "agent_id = response['agent']['agentId']\n",
    "agent_id"
   ]
  },
  {
   "cell_type": "markdown",
   "id": "65efbf63-fbdb-4220-ab89-c7af740447ef",
   "metadata": {},
   "source": [
    "## Create Agent Action Group\n",
    "We will now create an agent action group that uses the lambda function created earlier. The [`create_agent_action_group`](https://boto3.amazonaws.com/v1/documentation/api/latest/reference/services/bedrock-agent/client/create_agent_action_group.html) function provides this functionality. We will use `DRAFT` as the agent version since we haven't yet created an agent version or alias. To inform the agent about the action group capabilities, we provide an action group description.\n",
    "\n",
    "In this example, we provide the Action Group functionality using a `functionSchema`. You can alternatively provide an `APISchema`. The notebook [02-create-agent-with-api-schema.ipynb](02-create-agent-with-api-schema/02-create-agent-with-api-schema.ipynb) provides an example of that approach.\n",
    "\n",
    "To define the functions using a function schema, you need to provide the `name`, `description` and `parameters` for each function."
   ]
  },
  {
   "cell_type": "code",
   "execution_count": null,
   "id": "a99e5855-fe22-450b-889a-da73e44fdc30",
   "metadata": {
    "tags": []
   },
   "outputs": [],
   "source": [
    "agent_functions = [\n",
    "    {\n",
    "        'name': 'get_available_park_days',\n",
    "        'description': 'Get the available days for a specific park within a date range.  If no end data is specified assume the end_date is the same as the start_date',\n",
    "        'parameters': {\n",
    "            \"park_id\": {\n",
    "                \"description\": \"The ID of the park to check availability\",\n",
    "                \"required\": True,\n",
    "                \"type\": \"integer\"\n",
    "            },\n",
    "            \"start_date\": {\n",
    "                \"description\": \"The start date of the date range to check (format: YYYY-MM-DD)\",\n",
    "                \"required\": True,\n",
    "                \"type\": \"string\"\n",
    "            },\n",
    "            \"end_date\": {\n",
    "                \"description\": \"The end date of the date range to check (format: YYYY-MM-DD)\",\n",
    "                \"required\": True,\n",
    "                \"type\": \"string\"\n",
    "            }\n",
    "        }\n",
    "    },\n",
    "    {\n",
    "        'name': 'book_park',\n",
    "        'description': 'Book a park for a specific citizen within a date range.  If no end data is specified assume the end_date is the same as the start_date',\n",
    "        'parameters': {\n",
    "            # \"citizen_id\": {\n",
    "            #     \"description\": \"The ID of the citizen making the reservation\",\n",
    "            #     \"required\": True,\n",
    "            #     \"type\": \"integer\"\n",
    "            # },\n",
    "            \"park_id\": {\n",
    "                \"description\": \"The ID of the park to be reserved\",\n",
    "                \"required\": True,\n",
    "                \"type\": \"integer\"\n",
    "            },\n",
    "            \"start_date\": {\n",
    "                \"description\": \"The start date of the reservation (format: YYYY-MM-DD)\",\n",
    "                \"required\": True,\n",
    "                \"type\": \"string\"\n",
    "            },\n",
    "            \"end_date\": {\n",
    "                \"description\": \"The end date of the reservation (format: YYYY-MM-DD)\",\n",
    "                \"required\": True,\n",
    "                \"type\": \"string\"\n",
    "            }\n",
    "        }\n",
    "    },\n",
    "    {\n",
    "        'name': 'get_garbage_pickup_day',\n",
    "        'description': 'Get the garbage pickup day',\n",
    "        'parameters': {\n",
    "            # \"district_id\": {\n",
    "            #     \"description\": \"The ID of the district to get the garbage pickup day\",\n",
    "            #     \"required\": True,\n",
    "            #     \"type\": \"integer\"\n",
    "            # }\n",
    "        }\n",
    "    }\n",
    "]"
   ]
  },
  {
   "cell_type": "code",
   "execution_count": null,
   "id": "d474b3e7-8501-48ed-82d1-f8a3792227a4",
   "metadata": {
    "tags": []
   },
   "outputs": [],
   "source": [
    "# Pause to make sure agent is created\n",
    "time.sleep(30)\n",
    "# Now, we can configure and create an action group here:\n",
    "agent_action_group_response = bedrock_agent_client.create_agent_action_group(\n",
    "    agentId=agent_id,\n",
    "    agentVersion='DRAFT',\n",
    "    actionGroupExecutor={\n",
    "        'lambda': lambda_function['FunctionArn']\n",
    "    },\n",
    "    actionGroupName=agent_action_group_name,\n",
    "    functionSchema={\n",
    "        'functions': agent_functions\n",
    "    },\n",
    "    description=agent_action_group_description\n",
    ")"
   ]
  },
  {
   "cell_type": "code",
   "execution_count": null,
   "id": "22feec4a-d3ec-48f6-9e33-e5a09f08701e",
   "metadata": {
    "tags": []
   },
   "outputs": [],
   "source": [
    "agent_action_group_response"
   ]
  },
  {
   "cell_type": "markdown",
   "id": "751873ee-631b-437d-af97-cb86bd8a0890",
   "metadata": {},
   "source": [
    "## Allowing Agent to invoke Action Group Lambda\n",
    "Before using the action group, we need to allow the agent to invoke the lambda function associated with the action group. This is done via resource-based policy. Let's add the resource-based policy to the lambda function created"
   ]
  },
  {
   "cell_type": "code",
   "execution_count": null,
   "id": "c739e041-9ea0-4eef-8151-d206e2fd9e37",
   "metadata": {
    "tags": []
   },
   "outputs": [],
   "source": [
    "# Create allow invoke permission on lambda\n",
    "response = lambda_client.add_permission(\n",
    "    FunctionName=lambda_function_name,\n",
    "    StatementId='allow_bedrock',\n",
    "    Action='lambda:InvokeFunction',\n",
    "    Principal='bedrock.amazonaws.com',\n",
    "    SourceArn=f\"arn:aws:bedrock:{region}:{account_id}:agent/{agent_id}\",\n",
    ")\n"
   ]
  },
  {
   "cell_type": "code",
   "execution_count": null,
   "id": "826a1a76-37f9-404b-b52f-88cbaeb62b22",
   "metadata": {},
   "outputs": [],
   "source": []
  },
  {
   "cell_type": "markdown",
   "id": "014a4531-f7d4-4835-b6b5-0173416faecb",
   "metadata": {
    "tags": []
   },
   "source": [
    "response"
   ]
  },
  {
   "cell_type": "markdown",
   "id": "37c5d95e-1c4c-4a8d-a8c1-c35fcfef74d9",
   "metadata": {},
   "source": [
    "## Add Knowledge Base to the Agent"
   ]
  },
  {
   "cell_type": "code",
   "execution_count": null,
   "id": "24416d9d-60b5-4f1c-b148-1a560b76760a",
   "metadata": {
    "tags": []
   },
   "outputs": [],
   "source": [
    "agent_kb_description = bedrock_agent_client.associate_agent_knowledge_base(\n",
    "    agentId=agent_id,\n",
    "    agentVersion='DRAFT',\n",
    "    description=f'Use the information in the {kb_name} knowledge base to provide accurate responses to the questions about AnyCity USA.',\n",
    "    knowledgeBaseId=knowledge_base_id\n",
    ")"
   ]
  },
  {
   "cell_type": "markdown",
   "id": "2b3bab10-e5dc-4138-a9ff-76b2ff2ff9e6",
   "metadata": {},
   "source": [
    "## Preparing Agent\n",
    "\n",
    "Let's create a DRAFT version of the agent that can be used for internal testing.\n"
   ]
  },
  {
   "cell_type": "code",
   "execution_count": null,
   "id": "e7094e7f-915a-4396-8d98-c3bfee3ccf1e",
   "metadata": {
    "tags": []
   },
   "outputs": [],
   "source": [
    "response = bedrock_agent_client.prepare_agent(\n",
    "    agentId=agent_id\n",
    ")\n",
    "print(response)"
   ]
  },
  {
   "cell_type": "code",
   "execution_count": null,
   "id": "aae1ff1a",
   "metadata": {
    "tags": []
   },
   "outputs": [],
   "source": [
    "agent_alias_name = \"PKALIASID\"\n",
    "\n",
    "# Pause to make sure agent is prepared\n",
    "time.sleep(30)\n",
    "agent_alias = bedrock_agent_client.create_agent_alias(\n",
    "    agentId=agent_id,\n",
    "    agentAliasName=agent_alias_name\n",
    ")\n",
    "# Pause to make sure agent alias is ready\n",
    "time.sleep(30)"
   ]
  },
  {
   "cell_type": "code",
   "execution_count": null,
   "id": "3833d6da-9c99-4752-8dc6-a8911f79493c",
   "metadata": {},
   "outputs": [],
   "source": [
    "response = bedrock_client.create_guardrail(\n",
    "    name='AnyCityGuardrail',\n",
    "    description='Guardrail for city assitant to help users with questions about AnyCity',\n",
    "    topicPolicyConfig={\n",
    "        'topicsConfig': [\n",
    "            {\n",
    "                'name': 'Politics',\n",
    "                'definition': 'Guardrail to prevent from engaging in political discussions, expressing political opinions, or taking partisan stances on contested issues.',\n",
    "                'examples': [\n",
    "                    'Who do you think should win the upcoming election?',\n",
    "                    'Can you explain why candidate X would be better than candidate Y?',\n",
    "                    'Do you think current gun regulations are too strict or too lenient?',\n",
    "                    'Help me write a convincing argument on the Freedom Party platform and their key policies.',\n",
    "                    'Who is tougher on crime?  Republicans or Democrats?',\n",
    "                ],\n",
    "                'type': 'DENY'\n",
    "            },\n",
    "        ]\n",
    "    },\n",
    "    contentPolicyConfig={\n",
    "        'filtersConfig': [\n",
    "            {\n",
    "                'type': 'SEXUAL',\n",
    "                'inputStrength': 'HIGH',\n",
    "                'outputStrength': 'HIGH'\n",
    "            },\n",
    "            {\n",
    "                'type': 'VIOLENCE',\n",
    "                'inputStrength': 'HIGH',\n",
    "                'outputStrength': 'HIGH'\n",
    "            },\n",
    "            {\n",
    "                'type': 'HATE',\n",
    "                'inputStrength': 'HIGH',\n",
    "                'outputStrength': 'HIGH'\n",
    "            },\n",
    "            {\n",
    "                'type': 'INSULTS',\n",
    "                'inputStrength': 'HIGH',\n",
    "                'outputStrength': 'HIGH'\n",
    "            },\n",
    "            {\n",
    "                'type': 'MISCONDUCT',\n",
    "                'inputStrength': 'HIGH',\n",
    "                'outputStrength': 'HIGH'\n",
    "            },\n",
    "            {\n",
    "                'type': 'PROMPT_ATTACK',\n",
    "                'inputStrength': 'HIGH',\n",
    "                'outputStrength': 'NONE'\n",
    "            }\n",
    "        ]\n",
    "    },\n",
    "    wordPolicyConfig={\n",
    "        'wordsConfig': [\n",
    "            {'text': 'republican'},\n",
    "            {'text': 'democrat'},\n",
    "            {'text': 'conservative'},\n",
    "            {'text': 'liberal'},\n",
    "            {'text': 'immigration'},\n",
    "            {'text': 'abortion'},\n",
    "            {'text': 'bipartisan'},\n",
    "        ],\n",
    "        'managedWordListsConfig': [\n",
    "            {'type': 'PROFANITY'}\n",
    "        ]\n",
    "    },\n",
    "    sensitiveInformationPolicyConfig={\n",
    "        'piiEntitiesConfig': [\n",
    "            {'type': 'US_SOCIAL_SECURITY_NUMBER', 'action': 'BLOCK'},\n",
    "            {'type': 'US_BANK_ACCOUNT_NUMBER', 'action': 'BLOCK'},\n",
    "            {'type': 'CREDIT_DEBIT_CARD_NUMBER', 'action': 'BLOCK'}\n",
    "        ],\n",
    "        'regexesConfig': [\n",
    "            {\n",
    "                'name': 'Account Number',\n",
    "                'description': 'Matches account numbers in the format XXXXXX1234',\n",
    "                'pattern': r'\\b\\d{6}\\d{4}\\b',\n",
    "                'action': 'ANONYMIZE'\n",
    "            }\n",
    "        ]\n",
    "    },\n",
    "    contextualGroundingPolicyConfig={\n",
    "        'filtersConfig': [\n",
    "            {\n",
    "                'type': 'GROUNDING',\n",
    "                'threshold': 0.7\n",
    "            },\n",
    "            {\n",
    "                'type': 'RELEVANCE',\n",
    "                'threshold': 0.7\n",
    "            }\n",
    "        ]\n",
    "    },\n",
    "    blockedInputMessaging='Sorry, your question violates our usage policies. Please contact the AnyCity City Administrator at 987-654-3210 if this message was generated in error.',\n",
    "    blockedOutputsMessaging='Sorry, I am unable to reply. Please contact the AnyCity City Administrator at 987-654-3210',\n",
    ")"
   ]
  },
  {
   "cell_type": "markdown",
   "id": "83df3e54-0a70-49a8-bcad-9f4fe9f0ea74",
   "metadata": {},
   "source": [
    "## Adding the guardrail to your agent\n",
    "\n",
    "Now that we have a Bedrock guardrail we need to integrate it with your agent. So let's associate our guardrail with the agent now"
   ]
  },
  {
   "cell_type": "code",
   "execution_count": null,
   "id": "1ce39e26-ea5c-40e5-9948-e83759f58b87",
   "metadata": {},
   "outputs": [],
   "source": [
    "guardrail_id = response['guardrailId']\n",
    "guardrail_version = response['version']\n",
    "bedrock_agent_client.update_agent(\n",
    "                agentId=agent_id,\n",
    "                agentName=agent_name,\n",
    "                foundationModel=agent_foundation_model,\n",
    "                guardrailConfiguration = {\n",
    "                    'guardrailIdentifier': guardrail_id,\n",
    "                    'guardrailVersion': guardrail_version\n",
    "                },\n",
    "                agentResourceRoleArn=agent_role['Role']['Arn']\n",
    "            )\n",
    "time.sleep(30)"
   ]
  },
  {
   "cell_type": "code",
   "execution_count": null,
   "id": "95bd1b10-6263-4a4a-9c1a-170fc7ec50f9",
   "metadata": {},
   "outputs": [],
   "source": [
    "old_alias_id = agent_alias_id\n",
    "\n",
    "response = bedrock_agent_client.create_agent_alias(\n",
    "    agentAliasName='AgentWithGuardrail',\n",
    "    agentId=agent_id,\n",
    "    description='Test alias with Guardrails for Amazon Bedrock',\n",
    ")\n",
    "\n",
    "alias_id = response[\"agentAlias\"][\"agentAliasId\"]\n",
    "\n",
    "print(\"The Agent alias is:\",alias_id)\n",
    "time.sleep(30)"
   ]
  },
  {
   "cell_type": "code",
   "execution_count": null,
   "id": "05c89b65-e740-48b6-a704-a8903b219234",
   "metadata": {},
   "outputs": [],
   "source": [
    "response = bedrock_agent_client.prepare_agent(\n",
    "    agentId=agent_id\n",
    ")\n",
    "print(response)\n",
    "# Pause to make sure agent is prepared\n",
    "time.sleep(30)"
   ]
  },
  {
   "cell_type": "markdown",
   "id": "80f2be3a-007e-4278-b8cc-4ffd7222234b",
   "metadata": {
    "tags": []
   },
   "source": [
    "## Invoke Agent\n",
    "\n",
    "Now that we've created the agent, let's use the `bedrock-agent-runtime` client to invoke this agent and perform some tasks."
   ]
  },
  {
   "cell_type": "code",
   "execution_count": null,
   "id": "73992059-a207-4fb8-8655-ea24dcfc482c",
   "metadata": {
    "tags": []
   },
   "outputs": [],
   "source": [
    "# Extract the agentAliasId from the response\n",
    "agent_alias_id = agent_alias['agentAlias']['agentAliasId']"
   ]
  },
  {
   "cell_type": "code",
   "execution_count": null,
   "id": "22bfea60-67fd-43ea-b7a1-7ca5668cb36f",
   "metadata": {
    "tags": []
   },
   "outputs": [],
   "source": [
    "## create a random id for session initiator id\n",
    "session_id:str = str(uuid.uuid1())\n",
    "enable_trace:bool = True\n",
    "end_session:bool = False\n",
    "\n",
    "# invoke the agent API\n",
    "agentResponse = bedrock_agent_runtime_client.invoke_agent(\n",
    "#    inputText=\"How much is bulk item pickup?\",\n",
    "    inputText=\"What day is trash pickup?\",\n",
    "    agentId=agent_id,\n",
    "    agentAliasId=agent_alias_id, \n",
    "    sessionId=session_id,\n",
    "    enableTrace=enable_trace, \n",
    "    endSession= end_session,\n",
    "    sessionState={\n",
    "        \"sessionAttributes\": {\n",
    "            \"firstName\": \"Aaron\",\n",
    "            \"citizenID\": \"2\",\n",
    "            \"districtID\": \"3\"\n",
    "        }\n",
    "    }\n",
    ")\n",
    "\n",
    "logger.info(pprint.pprint(agentResponse))"
   ]
  },
  {
   "cell_type": "code",
   "execution_count": null,
   "id": "653747cc-301f-40a7-b8cf-058d7b0d75b3",
   "metadata": {
    "tags": []
   },
   "outputs": [],
   "source": [
    "%%time\n",
    "event_stream = agentResponse['completion']\n",
    "try:\n",
    "    for event in event_stream:        \n",
    "        if 'chunk' in event:\n",
    "            data = event['chunk']['bytes']\n",
    "            logger.info(f\"Final answer ->\\n{data.decode('utf8')}\")\n",
    "            agent_answer = data.decode('utf8')\n",
    "            end_event_received = True\n",
    "            # End event indicates that the request finished successfully\n",
    "        elif 'trace' in event:\n",
    "            logger.info(json.dumps(event['trace'], indent=2))\n",
    "        else:\n",
    "            raise Exception(\"unexpected event.\", event)\n",
    "except Exception as e:\n",
    "    raise Exception(\"unexpected event.\", e)"
   ]
  },
  {
   "cell_type": "code",
   "execution_count": null,
   "id": "1ae751a4-5f57-41c4-a079-42fd6b56bb2c",
   "metadata": {
    "tags": []
   },
   "outputs": [],
   "source": [
    "# And here is the response if you just want to see agent's reply\n",
    "print(agent_answer)"
   ]
  },
  {
   "cell_type": "code",
   "execution_count": null,
   "id": "a67a9ef1",
   "metadata": {
    "tags": []
   },
   "outputs": [],
   "source": [
    "agentResponse = bedrock_agent_runtime_client.invoke_agent(\n",
    "    inputText=\"What day is trash pickup?\",\n",
    "    agentId=agent_id,\n",
    "    agentAliasId=agent_alias_id, \n",
    "    sessionId=session_id,\n",
    "    enableTrace=enable_trace, \n",
    "    endSession= end_session,\n",
    "    sessionState={\n",
    "        \"sessionAttributes\": {\n",
    "            \"firstName\": \"Aaron\",\n",
    "            \"citizenID\": \"2\",\n",
    "            \"districtID\": \"3\"\n",
    "        }\n",
    "    }\n",
    ")\n",
    "\n",
    "logger.info(pprint.pprint(agentResponse))"
   ]
  },
  {
   "cell_type": "code",
   "execution_count": null,
   "id": "19ac498d",
   "metadata": {
    "tags": []
   },
   "outputs": [],
   "source": [
    "%%time\n",
    "event_stream = agentResponse['completion']\n",
    "try:\n",
    "    for event in event_stream:        \n",
    "        if 'chunk' in event:\n",
    "            data = event['chunk']['bytes']\n",
    "            logger.info(f\"Final answer ->\\n{data.decode('utf8')}\")\n",
    "            agent_answer = data.decode('utf8')\n",
    "            end_event_received = True\n",
    "            # End event indicates that the request finished successfully\n",
    "        elif 'trace' in event:\n",
    "            logger.info(json.dumps(event['trace'], indent=2))\n",
    "        else:\n",
    "            raise Exception(\"unexpected event.\", event)\n",
    "except Exception as e:\n",
    "    raise Exception(\"unexpected event.\", e)"
   ]
  },
  {
   "cell_type": "code",
   "execution_count": null,
   "id": "81061ed1",
   "metadata": {
    "tags": []
   },
   "outputs": [],
   "source": [
    "agentResponse = bedrock_agent_runtime_client.invoke_agent(\n",
    "    inputText=\"now let me reserve park 1 from May 15 2025 to Jun 15 2025.\",\n",
    "    agentId=agent_id,\n",
    "    agentAliasId=agent_alias_id, \n",
    "    sessionId=session_id,\n",
    "    enableTrace=enable_trace, \n",
    "    endSession= end_session,\n",
    "    sessionState={\n",
    "        \"sessionAttributes\": {\n",
    "            \"firstName\": \"Aaron\",\n",
    "            \"citizenID\": \"2\",\n",
    "            \"districtID\": \"3\"\n",
    "        }\n",
    "    }\n",
    ")\n",
    "\n",
    "logger.info(pprint.pprint(agentResponse))"
   ]
  },
  {
   "cell_type": "code",
   "execution_count": null,
   "id": "2c1f2f0f",
   "metadata": {
    "tags": []
   },
   "outputs": [],
   "source": [
    "%%time\n",
    "event_stream = agentResponse['completion']\n",
    "try:\n",
    "    for event in event_stream:        \n",
    "        if 'chunk' in event:\n",
    "            data = event['chunk']['bytes']\n",
    "            logger.info(f\"Final answer ->\\n{data.decode('utf8')}\")\n",
    "            agent_answer = data.decode('utf8')\n",
    "            end_event_received = True\n",
    "            # End event indicates that the request finished successfully\n",
    "        elif 'trace' in event:\n",
    "            logger.info(json.dumps(event['trace'], indent=2))\n",
    "        else:\n",
    "            raise Exception(\"unexpected event.\", event)\n",
    "except Exception as e:\n",
    "    raise Exception(\"unexpected event.\", e)"
   ]
  },
  {
   "cell_type": "code",
   "execution_count": null,
   "id": "3aa7ae85",
   "metadata": {
    "tags": []
   },
   "outputs": [],
   "source": [
    "def simple_agent_invoke(input_text, agent_id, agent_alias_id, session_id=None, enable_trace=False, end_session=False):\n",
    "    agentResponse = bedrock_agent_runtime_client.invoke_agent(\n",
    "        inputText=input_text,\n",
    "        agentId=agent_id,\n",
    "        agentAliasId=agent_alias_id, \n",
    "        sessionId=session_id,\n",
    "        enableTrace=enable_trace, \n",
    "        endSession= end_session\n",
    "    )\n",
    "    logger.info(pprint.pprint(agentResponse))\n",
    "    \n",
    "    event_stream = agentResponse['completion']\n",
    "    try:\n",
    "        for event in event_stream:        \n",
    "            if 'chunk' in event:\n",
    "                data = event['chunk']['bytes']\n",
    "                logger.info(f\"Final answer ->\\n{data.decode('utf8')}\")\n",
    "                agent_answer = data.decode('utf8')\n",
    "                end_event_received = True\n",
    "                # End event indicates that the request finished successfully\n",
    "            elif 'trace' in event:\n",
    "                logger.info(json.dumps(event['trace'], indent=2))\n",
    "            else:\n",
    "                raise Exception(\"unexpected event.\", event)\n",
    "    except Exception as e:\n",
    "        raise Exception(\"unexpected event.\", e)"
   ]
  },
  {
   "cell_type": "code",
   "execution_count": null,
   "id": "49520dbf",
   "metadata": {
    "tags": []
   },
   "outputs": [],
   "source": [
    "simple_agent_invoke(\"What day does trash get picked up for district 3?\", agent_id, agent_alias_id, session_id)"
   ]
  },
  {
   "cell_type": "code",
   "execution_count": null,
   "id": "fb617ba3",
   "metadata": {
    "tags": []
   },
   "outputs": [],
   "source": [
    "simple_agent_invoke(\"Who can I contact about a large trash pickup?\", agent_id, agent_alias_id, session_id)"
   ]
  },
  {
   "cell_type": "code",
   "execution_count": null,
   "id": "a170a775",
   "metadata": {
    "tags": []
   },
   "outputs": [],
   "source": [
    "simple_agent_invoke(\"Is park 2 available on Feb 31st?\", agent_id, agent_alias_id, session_id, enable_trace=True)"
   ]
  },
  {
   "cell_type": "markdown",
   "id": "28f05a6a-9d05-4602-9638-d60e4379539c",
   "metadata": {},
   "source": [
    "# Guardrails"
   ]
  },
  {
   "cell_type": "code",
   "execution_count": null,
   "id": "50e0b98e-3717-4b22-92e0-e9fc1625ff99",
   "metadata": {
    "tags": []
   },
   "outputs": [],
   "source": [
    "## create a random id for session initiator id\n",
    "session_id:str = str(uuid.uuid1())\n",
    "enable_trace:bool = True\n",
    "end_session:bool = False\n",
    "\n",
    "# invoke the agent API\n",
    "agentResponse = bedrock_agent_runtime_client.invoke_agent(\n",
    "    inputText=\"I'd like the reserve the park for an immigration party on April 19 2025 for citizen 12\",\n",
    "    agentId=agent_id,\n",
    "    agentAliasId=alias_id, \n",
    "    sessionId=session_id,\n",
    "    enableTrace=enable_trace, \n",
    "    endSession= end_session\n",
    ")\n",
    "\n",
    "logger.info(pprint.pprint(agentResponse))"
   ]
  },
  {
   "cell_type": "code",
   "execution_count": null,
   "id": "bc7b620f-8d0e-4110-b44b-e6e84fd65f32",
   "metadata": {
    "tags": []
   },
   "outputs": [],
   "source": [
    "%%time\n",
    "event_stream = agentResponse['completion']\n",
    "try:\n",
    "    for event in event_stream:        \n",
    "        if 'chunk' in event:\n",
    "            data = event['chunk']['bytes']\n",
    "            logger.info(f\"Final answer ->\\n{data.decode('utf8')}\")\n",
    "            agent_answer = data.decode('utf8')\n",
    "            end_event_received = True\n",
    "            # End event indicates that the request finished successfully\n",
    "        elif 'trace' in event:\n",
    "            logger.info(json.dumps(event['trace'], indent=2))\n",
    "        else:\n",
    "            raise Exception(\"unexpected event.\", event)\n",
    "except Exception as e:\n",
    "    raise Exception(\"unexpected event.\", e)"
   ]
  },
  {
   "cell_type": "markdown",
   "id": "ee86a091-a966-4a3f-949d-4f72f7058c4b",
   "metadata": {
    "tags": []
   },
   "source": [
    "## Clean up (optional)\n",
    "\n",
    "The next steps are optional and demonstrate how to delete our agent. To delete the agent we need to:\n",
    "\n",
    "1. update the action group to disable it\n",
    "2. delete agent action group\n",
    "4. delete agent\n",
    "5. delete lambda function\n",
    "6. delete the created IAM roles and policies\n"
   ]
  },
  {
   "cell_type": "code",
   "execution_count": null,
   "id": "64946196-968c-48a8-9058-824762405d89",
   "metadata": {
    "tags": []
   },
   "outputs": [],
   "source": [
    "import time\n",
    "\n",
    "def wait_for_deletion(resource_type, identifier, max_attempts=10):\n",
    "    for _ in range(max_attempts):\n",
    "        if not resource_exists(resource_type, identifier):\n",
    "            return True\n",
    "        time.sleep(10)\n",
    "    return False\n",
    "\n",
    "try:\n",
    "    bedrock_agent_client.delete_agent_alias(\n",
    "        agentId=agent_id,\n",
    "        agentAliasId=agent_alias['agentAlias']['agentAliasId']\n",
    "    )\n",
    "    print(f\"Deleted agent alias: {agent_alias['agentAlias']['agentAliasId']}\")\n",
    "    # Wait for alias deletion to complete\n",
    "    wait_for_deletion('agent_alias', agent_alias['agentAlias']['agentAliasId'])\n",
    "except Exception as e:\n",
    "    print(f\"Error deleting agent alias: {e}\")\n",
    "\n",
    "try:\n",
    "    action_groups = bedrock_agent_client.list_agent_action_groups(agentId=agent_id, agentVersion='DRAFT')\n",
    "    for action_group in action_groups['agentActionGroupSummaries']:\n",
    "        action_group_id = action_group['actionGroupId']\n",
    "        action_group_name = action_group['actionGroupName']\n",
    "        bedrock_agent_client.update_agent_action_group(\n",
    "            agentId=agent_id,\n",
    "            agentVersion='DRAFT',\n",
    "            actionGroupId=action_group_id,\n",
    "            actionGroupName=action_group_name,\n",
    "            actionGroupState='DISABLED',\n",
    "        )\n",
    "        bedrock_agent_client.delete_agent_action_group(\n",
    "            agentId=agent_id,\n",
    "            agentVersion='DRAFT',\n",
    "            actionGroupId=action_group_id\n",
    "        )\n",
    "        print(f\"Deleted agent action group: {action_group_id}\")\n",
    "except Exception as e:\n",
    "    print(f\"Error deleting agent action groups: {e}\")\n",
    "\n",
    "try:\n",
    "    s3 = boto3.resource('s3')\n",
    "    bucket = s3.Bucket(bucket_name)\n",
    "    bucket.objects.all().delete()\n",
    "    bucket.delete()\n",
    "    print(f\"Deleted S3 bucket: {bucket_name}\")\n",
    "except Exception as e:\n",
    "    print(f\"Error deleting S3 bucket: {e}\")\n",
    "\n",
    "try:\n",
    "    bedrock_agent_client.delete_agent(agentId=agent_id)\n",
    "    print(f\"Deleted agent: {agent_id}\")\n",
    "    wait_for_deletion('agent', agent_id)\n",
    "except Exception as e:\n",
    "    print(f\"Error deleting agent: {e}\")\n",
    "    print(\"Attempting to force delete the agent...\")\n",
    "    try:\n",
    "        bedrock_agent_client.delete_agent(agentId=agent_id, skipResourceInUseCheck=True)\n",
    "        print(f\"Force deleted agent: {agent_id}\")\n",
    "        wait_for_deletion('agent', agent_id)\n",
    "    except Exception as e2:\n",
    "        print(f\"Error force deleting agent: {e2}\")\n",
    "\n",
    "try:\n",
    "    lambda_client.delete_function(FunctionName=lambda_function_name)\n",
    "    print(f\"Deleted Lambda function: {lambda_function_name}\")\n",
    "except Exception as e:\n",
    "    print(f\"Error deleting Lambda function: {e}\")\n",
    "\n",
    "def detach_and_delete_policies(role_name):\n",
    "    try:\n",
    "        role = iam_client.get_role(RoleName=role_name)\n",
    "        attached_policies = iam_client.list_attached_role_policies(RoleName=role_name)['AttachedPolicies']\n",
    "        \n",
    "        for policy in attached_policies:\n",
    "            iam_client.detach_role_policy(RoleName=role_name, PolicyArn=policy['PolicyArn'])\n",
    "            if not policy['PolicyArn'].startswith('arn:aws:iam::aws:policy/'):  # Don't delete AWS managed policies\n",
    "                iam_client.delete_policy(PolicyArn=policy['PolicyArn'])\n",
    "        \n",
    "        inline_policies = iam_client.list_role_policies(RoleName=role_name)['PolicyNames']\n",
    "        for policy_name in inline_policies:\n",
    "            iam_client.delete_role_policy(RoleName=role_name, PolicyName=policy_name)\n",
    "        \n",
    "        iam_client.delete_role(RoleName=role_name)\n",
    "        print(f\"Deleted role and its policies: {role_name}\")\n",
    "    except Exception as e:\n",
    "        print(f\"Error deleting role {role_name}: {e}\")\n",
    "\n",
    "for role_name in [agent_role_name, kb_role_name, lambda_function_role]:\n",
    "    detach_and_delete_policies(role_name)\n",
    "\n",
    "try:\n",
    "    open_search_serverless_client.delete_collection(\n",
    "        id=opensearch_collection_response[\"createCollectionDetail\"][\"id\"]\n",
    "    )\n",
    "    print(f\"Deleted OpenSearch collection: {kb_collection_name}\")\n",
    "    wait_for_deletion('opensearch', kb_collection_name)\n",
    "\n",
    "    for policy_type in ['network', 'encryption']:\n",
    "        try:\n",
    "            open_search_serverless_client.delete_security_policy(\n",
    "                name=kb_collection_name,\n",
    "                type=policy_type\n",
    "            )\n",
    "            print(f\"Deleted OpenSearch {policy_type} policy: {kb_collection_name}\")\n",
    "        except Exception as e:\n",
    "            print(f\"Error deleting OpenSearch {policy_type} policy: {e}\")\n",
    "\n",
    "    try:\n",
    "        open_search_serverless_client.delete_access_policy(\n",
    "            name=kb_collection_name,\n",
    "            type='data'\n",
    "        )\n",
    "        print(f\"Deleted OpenSearch data access policy: {kb_collection_name}\")\n",
    "    except Exception as e:\n",
    "        print(f\"Error deleting OpenSearch data access policy: {e}\")\n",
    "\n",
    "except Exception as e:\n",
    "    print(f\"Error deleting OpenSearch resources: {e}\")\n",
    "    \n",
    "try:\n",
    "    bedrock_agent_client.delete_knowledge_base(knowledgeBaseId=knowledge_base_id)\n",
    "    print(f\"Deleted Knowledge Base: {knowledge_base_id}\")\n",
    "    wait_for_deletion('knowledge_base', knowledge_base_id)\n",
    "except Exception as e:\n",
    "    print(f\"Error deleting Knowledge Base: {e}\")\n",
    "\n",
    "    \n",
    "try:\n",
    "    bedrock_client.delete_guardrail(guardrailIdentifier=guardrail_id)\n",
    "    print(f\"Deleted Guardrail: {guardrail_id}\")\n",
    "except Exception as e:\n",
    "    print(f\"Error deleting Guardrail: {e}\")\n",
    "\n",
    "try:\n",
    "    data_sources = bedrock_agent_client.list_data_sources(knowledgeBaseId=knowledge_base_id)\n",
    "    for data_source in data_sources['dataSourceSummaries']:\n",
    "        bedrock_agent_client.delete_data_source(\n",
    "            knowledgeBaseId=knowledge_base_id,\n",
    "            dataSourceId=data_source['dataSourceId']\n",
    "        )\n",
    "        print(f\"Deleted data source: {data_source['dataSourceId']}\")\n",
    "except Exception as e:\n",
    "    print(f\"Error deleting data sources: {e}\")\n",
    "\n",
    "try:\n",
    "    logs_client = boto3.client('logs')\n",
    "    log_group_name = f\"/aws/lambda/{lambda_function_name}\"\n",
    "    logs_client.delete_log_group(logGroupName=log_group_name)\n",
    "    print(f\"Deleted CloudWatch log group: {log_group_name}\")\n",
    "except Exception as e:\n",
    "    print(f\"Error deleting CloudWatch logs: {e}\")\n",
    "\n",
    "def resource_exists(resource_type, identifier):\n",
    "    try:\n",
    "        if resource_type == 'agent':\n",
    "            bedrock_agent_client.get_agent(agentId=identifier)\n",
    "        elif resource_type == 'lambda':\n",
    "            lambda_client.get_function(FunctionName=identifier)\n",
    "        elif resource_type == 's3':\n",
    "            s3_client.head_bucket(Bucket=identifier)\n",
    "        elif resource_type == 'opensearch':\n",
    "            open_search_serverless_client.batch_get_collection(names=[identifier])\n",
    "        elif resource_type == 'knowledge_base':\n",
    "            bedrock_agent_client.get_knowledge_base(knowledgeBaseId=identifier)\n",
    "        elif resource_type == 'guardrail':\n",
    "            bedrock_client.get_guardrail(guardrailId=identifier)\n",
    "        return True\n",
    "    except:\n",
    "        return False\n",
    "\n",
    "resources_to_check = [\n",
    "    ('agent', agent_id),\n",
    "    ('lambda', lambda_function_name),\n",
    "    ('s3', bucket_name),\n",
    "    ('opensearch', kb_collection_name),\n",
    "    ('knowledge_base', knowledge_base_id),\n",
    "    ('guardrail', guardrail_id)\n",
    "]\n",
    "\n",
    "for resource_type, identifier in resources_to_check:\n",
    "    if resource_exists(resource_type, identifier):\n",
    "        print(f\"Warning: {resource_type} {identifier} still exists\")\n",
    "    else:\n",
    "        print(f\"{resource_type.capitalize()} {identifier} has been successfully deleted\")\n",
    "\n",
    "# Check for IAM roles\n",
    "for role_name in [agent_role_name, kb_role_name, lambda_function_role]:\n",
    "    try:\n",
    "        iam_client.get_role(RoleName=role_name)\n",
    "        print(f\"Warning: IAM role {role_name} still exists\")\n",
    "    except iam_client.exceptions.NoSuchEntityException:\n",
    "        print(f\"IAM role {role_name} has been successfully deleted\")"
   ]
  },
  {
   "cell_type": "markdown",
   "id": "25e995a3-7842-4bcc-93e9-759b6b3b6722",
   "metadata": {},
   "source": [
    "## Conclusion\n",
    "We have now experimented with using boto3 SDK to create, invoke and delete an agent created using function definitions.\n",
    "\n",
    "## Take aways\n",
    "Adapt this notebook to create new agents using function definitions for your application\n",
    "\n",
    "## Thank You"
   ]
  }
 ],
 "metadata": {
  "availableInstances": [
   {
    "_defaultOrder": 0,
    "_isFastLaunch": true,
    "category": "General purpose",
    "gpuNum": 0,
    "hideHardwareSpecs": false,
    "memoryGiB": 4,
    "name": "ml.t3.medium",
    "vcpuNum": 2
   },
   {
    "_defaultOrder": 1,
    "_isFastLaunch": false,
    "category": "General purpose",
    "gpuNum": 0,
    "hideHardwareSpecs": false,
    "memoryGiB": 8,
    "name": "ml.t3.large",
    "vcpuNum": 2
   },
   {
    "_defaultOrder": 2,
    "_isFastLaunch": false,
    "category": "General purpose",
    "gpuNum": 0,
    "hideHardwareSpecs": false,
    "memoryGiB": 16,
    "name": "ml.t3.xlarge",
    "vcpuNum": 4
   },
   {
    "_defaultOrder": 3,
    "_isFastLaunch": false,
    "category": "General purpose",
    "gpuNum": 0,
    "hideHardwareSpecs": false,
    "memoryGiB": 32,
    "name": "ml.t3.2xlarge",
    "vcpuNum": 8
   },
   {
    "_defaultOrder": 4,
    "_isFastLaunch": true,
    "category": "General purpose",
    "gpuNum": 0,
    "hideHardwareSpecs": false,
    "memoryGiB": 8,
    "name": "ml.m5.large",
    "vcpuNum": 2
   },
   {
    "_defaultOrder": 5,
    "_isFastLaunch": false,
    "category": "General purpose",
    "gpuNum": 0,
    "hideHardwareSpecs": false,
    "memoryGiB": 16,
    "name": "ml.m5.xlarge",
    "vcpuNum": 4
   },
   {
    "_defaultOrder": 6,
    "_isFastLaunch": false,
    "category": "General purpose",
    "gpuNum": 0,
    "hideHardwareSpecs": false,
    "memoryGiB": 32,
    "name": "ml.m5.2xlarge",
    "vcpuNum": 8
   },
   {
    "_defaultOrder": 7,
    "_isFastLaunch": false,
    "category": "General purpose",
    "gpuNum": 0,
    "hideHardwareSpecs": false,
    "memoryGiB": 64,
    "name": "ml.m5.4xlarge",
    "vcpuNum": 16
   },
   {
    "_defaultOrder": 8,
    "_isFastLaunch": false,
    "category": "General purpose",
    "gpuNum": 0,
    "hideHardwareSpecs": false,
    "memoryGiB": 128,
    "name": "ml.m5.8xlarge",
    "vcpuNum": 32
   },
   {
    "_defaultOrder": 9,
    "_isFastLaunch": false,
    "category": "General purpose",
    "gpuNum": 0,
    "hideHardwareSpecs": false,
    "memoryGiB": 192,
    "name": "ml.m5.12xlarge",
    "vcpuNum": 48
   },
   {
    "_defaultOrder": 10,
    "_isFastLaunch": false,
    "category": "General purpose",
    "gpuNum": 0,
    "hideHardwareSpecs": false,
    "memoryGiB": 256,
    "name": "ml.m5.16xlarge",
    "vcpuNum": 64
   },
   {
    "_defaultOrder": 11,
    "_isFastLaunch": false,
    "category": "General purpose",
    "gpuNum": 0,
    "hideHardwareSpecs": false,
    "memoryGiB": 384,
    "name": "ml.m5.24xlarge",
    "vcpuNum": 96
   },
   {
    "_defaultOrder": 12,
    "_isFastLaunch": false,
    "category": "General purpose",
    "gpuNum": 0,
    "hideHardwareSpecs": false,
    "memoryGiB": 8,
    "name": "ml.m5d.large",
    "vcpuNum": 2
   },
   {
    "_defaultOrder": 13,
    "_isFastLaunch": false,
    "category": "General purpose",
    "gpuNum": 0,
    "hideHardwareSpecs": false,
    "memoryGiB": 16,
    "name": "ml.m5d.xlarge",
    "vcpuNum": 4
   },
   {
    "_defaultOrder": 14,
    "_isFastLaunch": false,
    "category": "General purpose",
    "gpuNum": 0,
    "hideHardwareSpecs": false,
    "memoryGiB": 32,
    "name": "ml.m5d.2xlarge",
    "vcpuNum": 8
   },
   {
    "_defaultOrder": 15,
    "_isFastLaunch": false,
    "category": "General purpose",
    "gpuNum": 0,
    "hideHardwareSpecs": false,
    "memoryGiB": 64,
    "name": "ml.m5d.4xlarge",
    "vcpuNum": 16
   },
   {
    "_defaultOrder": 16,
    "_isFastLaunch": false,
    "category": "General purpose",
    "gpuNum": 0,
    "hideHardwareSpecs": false,
    "memoryGiB": 128,
    "name": "ml.m5d.8xlarge",
    "vcpuNum": 32
   },
   {
    "_defaultOrder": 17,
    "_isFastLaunch": false,
    "category": "General purpose",
    "gpuNum": 0,
    "hideHardwareSpecs": false,
    "memoryGiB": 192,
    "name": "ml.m5d.12xlarge",
    "vcpuNum": 48
   },
   {
    "_defaultOrder": 18,
    "_isFastLaunch": false,
    "category": "General purpose",
    "gpuNum": 0,
    "hideHardwareSpecs": false,
    "memoryGiB": 256,
    "name": "ml.m5d.16xlarge",
    "vcpuNum": 64
   },
   {
    "_defaultOrder": 19,
    "_isFastLaunch": false,
    "category": "General purpose",
    "gpuNum": 0,
    "hideHardwareSpecs": false,
    "memoryGiB": 384,
    "name": "ml.m5d.24xlarge",
    "vcpuNum": 96
   },
   {
    "_defaultOrder": 20,
    "_isFastLaunch": false,
    "category": "General purpose",
    "gpuNum": 0,
    "hideHardwareSpecs": true,
    "memoryGiB": 0,
    "name": "ml.geospatial.interactive",
    "supportedImageNames": [
     "sagemaker-geospatial-v1-0"
    ],
    "vcpuNum": 0
   },
   {
    "_defaultOrder": 21,
    "_isFastLaunch": true,
    "category": "Compute optimized",
    "gpuNum": 0,
    "hideHardwareSpecs": false,
    "memoryGiB": 4,
    "name": "ml.c5.large",
    "vcpuNum": 2
   },
   {
    "_defaultOrder": 22,
    "_isFastLaunch": false,
    "category": "Compute optimized",
    "gpuNum": 0,
    "hideHardwareSpecs": false,
    "memoryGiB": 8,
    "name": "ml.c5.xlarge",
    "vcpuNum": 4
   },
   {
    "_defaultOrder": 23,
    "_isFastLaunch": false,
    "category": "Compute optimized",
    "gpuNum": 0,
    "hideHardwareSpecs": false,
    "memoryGiB": 16,
    "name": "ml.c5.2xlarge",
    "vcpuNum": 8
   },
   {
    "_defaultOrder": 24,
    "_isFastLaunch": false,
    "category": "Compute optimized",
    "gpuNum": 0,
    "hideHardwareSpecs": false,
    "memoryGiB": 32,
    "name": "ml.c5.4xlarge",
    "vcpuNum": 16
   },
   {
    "_defaultOrder": 25,
    "_isFastLaunch": false,
    "category": "Compute optimized",
    "gpuNum": 0,
    "hideHardwareSpecs": false,
    "memoryGiB": 72,
    "name": "ml.c5.9xlarge",
    "vcpuNum": 36
   },
   {
    "_defaultOrder": 26,
    "_isFastLaunch": false,
    "category": "Compute optimized",
    "gpuNum": 0,
    "hideHardwareSpecs": false,
    "memoryGiB": 96,
    "name": "ml.c5.12xlarge",
    "vcpuNum": 48
   },
   {
    "_defaultOrder": 27,
    "_isFastLaunch": false,
    "category": "Compute optimized",
    "gpuNum": 0,
    "hideHardwareSpecs": false,
    "memoryGiB": 144,
    "name": "ml.c5.18xlarge",
    "vcpuNum": 72
   },
   {
    "_defaultOrder": 28,
    "_isFastLaunch": false,
    "category": "Compute optimized",
    "gpuNum": 0,
    "hideHardwareSpecs": false,
    "memoryGiB": 192,
    "name": "ml.c5.24xlarge",
    "vcpuNum": 96
   },
   {
    "_defaultOrder": 29,
    "_isFastLaunch": true,
    "category": "Accelerated computing",
    "gpuNum": 1,
    "hideHardwareSpecs": false,
    "memoryGiB": 16,
    "name": "ml.g4dn.xlarge",
    "vcpuNum": 4
   },
   {
    "_defaultOrder": 30,
    "_isFastLaunch": false,
    "category": "Accelerated computing",
    "gpuNum": 1,
    "hideHardwareSpecs": false,
    "memoryGiB": 32,
    "name": "ml.g4dn.2xlarge",
    "vcpuNum": 8
   },
   {
    "_defaultOrder": 31,
    "_isFastLaunch": false,
    "category": "Accelerated computing",
    "gpuNum": 1,
    "hideHardwareSpecs": false,
    "memoryGiB": 64,
    "name": "ml.g4dn.4xlarge",
    "vcpuNum": 16
   },
   {
    "_defaultOrder": 32,
    "_isFastLaunch": false,
    "category": "Accelerated computing",
    "gpuNum": 1,
    "hideHardwareSpecs": false,
    "memoryGiB": 128,
    "name": "ml.g4dn.8xlarge",
    "vcpuNum": 32
   },
   {
    "_defaultOrder": 33,
    "_isFastLaunch": false,
    "category": "Accelerated computing",
    "gpuNum": 4,
    "hideHardwareSpecs": false,
    "memoryGiB": 192,
    "name": "ml.g4dn.12xlarge",
    "vcpuNum": 48
   },
   {
    "_defaultOrder": 34,
    "_isFastLaunch": false,
    "category": "Accelerated computing",
    "gpuNum": 1,
    "hideHardwareSpecs": false,
    "memoryGiB": 256,
    "name": "ml.g4dn.16xlarge",
    "vcpuNum": 64
   },
   {
    "_defaultOrder": 35,
    "_isFastLaunch": false,
    "category": "Accelerated computing",
    "gpuNum": 1,
    "hideHardwareSpecs": false,
    "memoryGiB": 61,
    "name": "ml.p3.2xlarge",
    "vcpuNum": 8
   },
   {
    "_defaultOrder": 36,
    "_isFastLaunch": false,
    "category": "Accelerated computing",
    "gpuNum": 4,
    "hideHardwareSpecs": false,
    "memoryGiB": 244,
    "name": "ml.p3.8xlarge",
    "vcpuNum": 32
   },
   {
    "_defaultOrder": 37,
    "_isFastLaunch": false,
    "category": "Accelerated computing",
    "gpuNum": 8,
    "hideHardwareSpecs": false,
    "memoryGiB": 488,
    "name": "ml.p3.16xlarge",
    "vcpuNum": 64
   },
   {
    "_defaultOrder": 38,
    "_isFastLaunch": false,
    "category": "Accelerated computing",
    "gpuNum": 8,
    "hideHardwareSpecs": false,
    "memoryGiB": 768,
    "name": "ml.p3dn.24xlarge",
    "vcpuNum": 96
   },
   {
    "_defaultOrder": 39,
    "_isFastLaunch": false,
    "category": "Memory Optimized",
    "gpuNum": 0,
    "hideHardwareSpecs": false,
    "memoryGiB": 16,
    "name": "ml.r5.large",
    "vcpuNum": 2
   },
   {
    "_defaultOrder": 40,
    "_isFastLaunch": false,
    "category": "Memory Optimized",
    "gpuNum": 0,
    "hideHardwareSpecs": false,
    "memoryGiB": 32,
    "name": "ml.r5.xlarge",
    "vcpuNum": 4
   },
   {
    "_defaultOrder": 41,
    "_isFastLaunch": false,
    "category": "Memory Optimized",
    "gpuNum": 0,
    "hideHardwareSpecs": false,
    "memoryGiB": 64,
    "name": "ml.r5.2xlarge",
    "vcpuNum": 8
   },
   {
    "_defaultOrder": 42,
    "_isFastLaunch": false,
    "category": "Memory Optimized",
    "gpuNum": 0,
    "hideHardwareSpecs": false,
    "memoryGiB": 128,
    "name": "ml.r5.4xlarge",
    "vcpuNum": 16
   },
   {
    "_defaultOrder": 43,
    "_isFastLaunch": false,
    "category": "Memory Optimized",
    "gpuNum": 0,
    "hideHardwareSpecs": false,
    "memoryGiB": 256,
    "name": "ml.r5.8xlarge",
    "vcpuNum": 32
   },
   {
    "_defaultOrder": 44,
    "_isFastLaunch": false,
    "category": "Memory Optimized",
    "gpuNum": 0,
    "hideHardwareSpecs": false,
    "memoryGiB": 384,
    "name": "ml.r5.12xlarge",
    "vcpuNum": 48
   },
   {
    "_defaultOrder": 45,
    "_isFastLaunch": false,
    "category": "Memory Optimized",
    "gpuNum": 0,
    "hideHardwareSpecs": false,
    "memoryGiB": 512,
    "name": "ml.r5.16xlarge",
    "vcpuNum": 64
   },
   {
    "_defaultOrder": 46,
    "_isFastLaunch": false,
    "category": "Memory Optimized",
    "gpuNum": 0,
    "hideHardwareSpecs": false,
    "memoryGiB": 768,
    "name": "ml.r5.24xlarge",
    "vcpuNum": 96
   },
   {
    "_defaultOrder": 47,
    "_isFastLaunch": false,
    "category": "Accelerated computing",
    "gpuNum": 1,
    "hideHardwareSpecs": false,
    "memoryGiB": 16,
    "name": "ml.g5.xlarge",
    "vcpuNum": 4
   },
   {
    "_defaultOrder": 48,
    "_isFastLaunch": false,
    "category": "Accelerated computing",
    "gpuNum": 1,
    "hideHardwareSpecs": false,
    "memoryGiB": 32,
    "name": "ml.g5.2xlarge",
    "vcpuNum": 8
   },
   {
    "_defaultOrder": 49,
    "_isFastLaunch": false,
    "category": "Accelerated computing",
    "gpuNum": 1,
    "hideHardwareSpecs": false,
    "memoryGiB": 64,
    "name": "ml.g5.4xlarge",
    "vcpuNum": 16
   },
   {
    "_defaultOrder": 50,
    "_isFastLaunch": false,
    "category": "Accelerated computing",
    "gpuNum": 1,
    "hideHardwareSpecs": false,
    "memoryGiB": 128,
    "name": "ml.g5.8xlarge",
    "vcpuNum": 32
   },
   {
    "_defaultOrder": 51,
    "_isFastLaunch": false,
    "category": "Accelerated computing",
    "gpuNum": 1,
    "hideHardwareSpecs": false,
    "memoryGiB": 256,
    "name": "ml.g5.16xlarge",
    "vcpuNum": 64
   },
   {
    "_defaultOrder": 52,
    "_isFastLaunch": false,
    "category": "Accelerated computing",
    "gpuNum": 4,
    "hideHardwareSpecs": false,
    "memoryGiB": 192,
    "name": "ml.g5.12xlarge",
    "vcpuNum": 48
   },
   {
    "_defaultOrder": 53,
    "_isFastLaunch": false,
    "category": "Accelerated computing",
    "gpuNum": 4,
    "hideHardwareSpecs": false,
    "memoryGiB": 384,
    "name": "ml.g5.24xlarge",
    "vcpuNum": 96
   },
   {
    "_defaultOrder": 54,
    "_isFastLaunch": false,
    "category": "Accelerated computing",
    "gpuNum": 8,
    "hideHardwareSpecs": false,
    "memoryGiB": 768,
    "name": "ml.g5.48xlarge",
    "vcpuNum": 192
   },
   {
    "_defaultOrder": 55,
    "_isFastLaunch": false,
    "category": "Accelerated computing",
    "gpuNum": 8,
    "hideHardwareSpecs": false,
    "memoryGiB": 1152,
    "name": "ml.p4d.24xlarge",
    "vcpuNum": 96
   },
   {
    "_defaultOrder": 56,
    "_isFastLaunch": false,
    "category": "Accelerated computing",
    "gpuNum": 8,
    "hideHardwareSpecs": false,
    "memoryGiB": 1152,
    "name": "ml.p4de.24xlarge",
    "vcpuNum": 96
   },
   {
    "_defaultOrder": 57,
    "_isFastLaunch": false,
    "category": "Accelerated computing",
    "gpuNum": 0,
    "hideHardwareSpecs": false,
    "memoryGiB": 32,
    "name": "ml.trn1.2xlarge",
    "vcpuNum": 8
   },
   {
    "_defaultOrder": 58,
    "_isFastLaunch": false,
    "category": "Accelerated computing",
    "gpuNum": 0,
    "hideHardwareSpecs": false,
    "memoryGiB": 512,
    "name": "ml.trn1.32xlarge",
    "vcpuNum": 128
   },
   {
    "_defaultOrder": 59,
    "_isFastLaunch": false,
    "category": "Accelerated computing",
    "gpuNum": 0,
    "hideHardwareSpecs": false,
    "memoryGiB": 512,
    "name": "ml.trn1n.32xlarge",
    "vcpuNum": 128
   }
  ],
  "instance_type": "ml.t3.medium",
  "kernelspec": {
   "display_name": "conda_python3",
   "language": "python",
   "name": "conda_python3"
  },
  "language_info": {
   "codemirror_mode": {
    "name": "ipython",
    "version": 3
   },
   "file_extension": ".py",
   "mimetype": "text/x-python",
   "name": "python",
   "nbconvert_exporter": "python",
   "pygments_lexer": "ipython3",
   "version": "3.10.14"
  }
 },
 "nbformat": 4,
 "nbformat_minor": 5
}
